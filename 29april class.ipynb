{
 "cells": [
  {
   "cell_type": "code",
   "execution_count": 1,
   "id": "9196b72c-2889-4fc1-99b0-88593f42c3d0",
   "metadata": {},
   "outputs": [
    {
     "name": "stdout",
     "output_type": "stream",
     "text": [
      "{'yash', 20, 40, 10, 30}\n"
     ]
    }
   ],
   "source": [
    "myset={10,20,30,10,10,40,\"yash\"}\n",
    "print(myset)"
   ]
  },
  {
   "cell_type": "code",
   "execution_count": 2,
   "id": "10da564a-330c-431f-93ec-633189a554b0",
   "metadata": {},
   "outputs": [
    {
     "data": {
      "text/plain": [
       "{10, 20, 30, 40, 800, 'yash'}"
      ]
     },
     "execution_count": 2,
     "metadata": {},
     "output_type": "execute_result"
    }
   ],
   "source": [
    "myset.add(800)\n",
    "myset\n"
   ]
  },
  {
   "cell_type": "code",
   "execution_count": 3,
   "id": "0023e966-1e84-4970-a844-60b134815968",
   "metadata": {},
   "outputs": [],
   "source": [
    "# iterable is list pr loop chla skte h "
   ]
  },
  {
   "cell_type": "code",
   "execution_count": 4,
   "id": "67fa2320-4309-4627-b537-e1ba492e39da",
   "metadata": {},
   "outputs": [
    {
     "data": {
      "text/plain": [
       "{10, 20, 30, 40, 800, 's', 't', 'u', 'yash'}"
      ]
     },
     "execution_count": 4,
     "metadata": {},
     "output_type": "execute_result"
    }
   ],
   "source": [
    "myset.update(\"uts\")\n",
    "myset"
   ]
  },
  {
   "cell_type": "code",
   "execution_count": 5,
   "id": "7b00a86b-86e1-4803-ab1d-5b6109283967",
   "metadata": {},
   "outputs": [
    {
     "data": {
      "text/plain": [
       "{10, 30, 40, 800, 's', 't', 'u', 'yash'}"
      ]
     },
     "execution_count": 5,
     "metadata": {},
     "output_type": "execute_result"
    }
   ],
   "source": [
    "myset.remove(20)\n",
    "myset"
   ]
  },
  {
   "cell_type": "code",
   "execution_count": 6,
   "id": "45168f38-5b43-4b1a-8f20-7db89dfc4503",
   "metadata": {},
   "outputs": [
    {
     "data": {
      "text/plain": [
       "'yash'"
      ]
     },
     "execution_count": 6,
     "metadata": {},
     "output_type": "execute_result"
    }
   ],
   "source": [
    "myset.pop()"
   ]
  },
  {
   "cell_type": "code",
   "execution_count": 7,
   "id": "c344bf6e-596d-45ef-948b-16156125bffe",
   "metadata": {},
   "outputs": [
    {
     "data": {
      "text/plain": [
       "{10, 40, 800, 's', 't', 'u'}"
      ]
     },
     "execution_count": 7,
     "metadata": {},
     "output_type": "execute_result"
    }
   ],
   "source": [
    "myset.discard(30)\n",
    "myset"
   ]
  },
  {
   "cell_type": "code",
   "execution_count": 8,
   "id": "109b9514-0e56-4c9b-8f64-d0cb23b575c1",
   "metadata": {},
   "outputs": [
    {
     "data": {
      "text/plain": [
       "{10, 20, 30, 40, 50}"
      ]
     },
     "execution_count": 8,
     "metadata": {},
     "output_type": "execute_result"
    }
   ],
   "source": [
    "myset1={10,20,30}\n",
    "myset2={30,40,50}\n",
    "myset1.union(myset2)"
   ]
  },
  {
   "cell_type": "code",
   "execution_count": 15,
   "id": "a9932517-e3f6-4236-9f71-4a25ebb8559a",
   "metadata": {},
   "outputs": [
    {
     "data": {
      "text/plain": [
       "('hey', 'this', 'side', 'tushar', ['hey'])"
      ]
     },
     "execution_count": 15,
     "metadata": {},
     "output_type": "execute_result"
    }
   ],
   "source": [
    "#\"hey this side tushar hey\"\n",
    "#using set (hey this tushar side]\n",
    "myset0=\"hey\", \"this\", \"side\", \"tushar\", \"hey\".split(\" \")\n",
    "myset0"
   ]
  },
  {
   "cell_type": "code",
   "execution_count": 16,
   "id": "72ddb488-809a-41f4-8ee6-11edcb5088bc",
   "metadata": {},
   "outputs": [
    {
     "name": "stdout",
     "output_type": "stream",
     "text": [
      "('hey', 'this', 'side', 'tushar', ['hey'])\n"
     ]
    }
   ],
   "source": [
    "print(myset0)"
   ]
  },
  {
   "cell_type": "code",
   "execution_count": 21,
   "id": "5833e0bc-aa9e-4a22-8506-ac50c151e8ce",
   "metadata": {},
   "outputs": [
    {
     "name": "stdin",
     "output_type": "stream",
     "text": [
      "Enter a number 12\n"
     ]
    },
    {
     "name": "stdout",
     "output_type": "stream",
     "text": [
      "1\n",
      "2\n",
      "3\n",
      "4\n",
      "5\n",
      "6\n",
      "7\n",
      "8\n",
      "9\n",
      "10\n",
      "11\n",
      "12\n"
     ]
    }
   ],
   "source": [
    "x=int(input(\"Enter a number\"))\n",
    "num=0\n",
    "if x!=num:\n",
    "    for i in range(0,12):\n",
    "        num+=1\n",
    "        print(num)\n",
    "        "
   ]
  },
  {
   "cell_type": "code",
   "execution_count": null,
   "id": "a6c3bda3-253b-4779-9287-9ad843f52b84",
   "metadata": {},
   "outputs": [],
   "source": []
  },
  {
   "cell_type": "code",
   "execution_count": 37,
   "id": "d7bc2015-e5cd-4af2-91ca-79718b5c60db",
   "metadata": {},
   "outputs": [],
   "source": [
    "#list comprehension with nested loop\n",
    "#set comprehension\n",
    "#dictionary comprehension"
   ]
  },
  {
   "cell_type": "code",
   "execution_count": null,
   "id": "aae56383-d1e0-40e0-aa4f-23dda93a45ea",
   "metadata": {},
   "outputs": [],
   "source": [
    "# \" []{}() \"=> brackets are correct \n",
    "# [ {} () ] =>brackets are correct\n",
    "# [ { ( } ) ] => brackets are incorrect"
   ]
  }
 ],
 "metadata": {
  "kernelspec": {
   "display_name": "Python 3 (ipykernel)",
   "language": "python",
   "name": "python3"
  },
  "language_info": {
   "codemirror_mode": {
    "name": "ipython",
    "version": 3
   },
   "file_extension": ".py",
   "mimetype": "text/x-python",
   "name": "python",
   "nbconvert_exporter": "python",
   "pygments_lexer": "ipython3",
   "version": "3.12.3"
  }
 },
 "nbformat": 4,
 "nbformat_minor": 5
}
