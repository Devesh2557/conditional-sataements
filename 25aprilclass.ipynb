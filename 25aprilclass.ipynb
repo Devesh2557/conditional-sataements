{
 "cells": [
  {
   "cell_type": "code",
   "execution_count": 5,
   "id": "c953d914-6ac3-4108-b016-bac11734cd1a",
   "metadata": {},
   "outputs": [
    {
     "name": "stdout",
     "output_type": "stream",
     "text": [
      "1\n",
      "2\n"
     ]
    }
   ],
   "source": [
    "# for continue\n",
    "for i in range(1,5):\n",
    "    if(i==3):\n",
    "        break\n",
    "    print(i)\n",
    "    "
   ]
  },
  {
   "cell_type": "code",
   "execution_count": 8,
   "id": "489d8961-2200-4549-9761-8726e4d44581",
   "metadata": {},
   "outputs": [
    {
     "name": "stdout",
     "output_type": "stream",
     "text": [
      "1\n",
      "2\n",
      "4\n"
     ]
    }
   ],
   "source": [
    "for i in range(1,5):\n",
    "    if(i==3):\n",
    "       continue\n",
    "       print(\"hello\")\n",
    "    print(i)"
   ]
  },
  {
   "cell_type": "code",
   "execution_count": 31,
   "id": "fab03715-e041-4974-934c-7e5cfbabdba3",
   "metadata": {},
   "outputs": [
    {
     "name": "stdin",
     "output_type": "stream",
     "text": [
      "Enter a number to check prime number:- 4\n"
     ]
    },
    {
     "name": "stdout",
     "output_type": "stream",
     "text": [
      "not a prime number\n"
     ]
    }
   ],
   "source": [
    "num=int(input(\"Enter a number to check prime number:-\"))\n",
    "x=0\n",
    "for i in range(2,num):\n",
    "    if(num%i==0):\n",
    "        x=1\n",
    "        break\n",
    "if(x==1):\n",
    "    print(\"not a prime number\")\n",
    "else:\n",
    "    print(\"prime number\")\n",
    "        "
   ]
  },
  {
   "cell_type": "code",
   "execution_count": 33,
   "id": "70c3a53e-f4ac-4f2d-90c2-780535c733f2",
   "metadata": {},
   "outputs": [
    {
     "data": {
      "text/plain": [
       "' \\n> list(sequence)\\n> collection of multiple element of different dataype\\n> mutable\\n> element can be mutable and immutable\\n> []\\n> update, delete,insert and access based on index position\\n'"
      ]
     },
     "execution_count": 33,
     "metadata": {},
     "output_type": "execute_result"
    }
   ],
   "source": [
    "''' \n",
    "> list(sequence)\n",
    "> collection of multiple element of different dataype\n",
    "> mutable\n",
    "> element can be mutable and immutable\n",
    "> []\n",
    "> update, delete,insert and access based on index position\n",
    "'''"
   ]
  },
  {
   "cell_type": "code",
   "execution_count": 51,
   "id": "7d314705-ade9-49e3-9d55-4d5c2ff08d8c",
   "metadata": {},
   "outputs": [
    {
     "data": {
      "text/plain": [
       "list"
      ]
     },
     "execution_count": 51,
     "metadata": {},
     "output_type": "execute_result"
    }
   ],
   "source": [
    "mylist=[10,20,30.0,\"hello\"]\n",
    "type(mylist)"
   ]
  },
  {
   "cell_type": "code",
   "execution_count": 52,
   "id": "12633e30-2291-471e-a32e-7189a52c8bfd",
   "metadata": {},
   "outputs": [
    {
     "data": {
      "text/plain": [
       "'hello'"
      ]
     },
     "execution_count": 52,
     "metadata": {},
     "output_type": "execute_result"
    }
   ],
   "source": [
    "mylist[-1]"
   ]
  },
  {
   "cell_type": "code",
   "execution_count": 53,
   "id": "3a7ea448-99fc-4454-9fa3-649fe7408178",
   "metadata": {},
   "outputs": [
    {
     "data": {
      "text/plain": [
       "['hello', 30.0]"
      ]
     },
     "execution_count": 53,
     "metadata": {},
     "output_type": "execute_result"
    }
   ],
   "source": [
    "mylist[-1:-3:-1]"
   ]
  },
  {
   "cell_type": "code",
   "execution_count": 55,
   "id": "2903f6c0-ff2e-47e1-bed9-af3318247ebc",
   "metadata": {},
   "outputs": [
    {
     "data": {
      "text/plain": [
       "[90, 20, 30.0, 'hello']"
      ]
     },
     "execution_count": 55,
     "metadata": {},
     "output_type": "execute_result"
    }
   ],
   "source": [
    "mylist=[10,20,30.0,\"hello\"]\n",
    "mylist[0]=90\n",
    "mylist"
   ]
  },
  {
   "cell_type": "code",
   "execution_count": 57,
   "id": "45959892-86ec-4098-a6af-63222a9dc18b",
   "metadata": {},
   "outputs": [
    {
     "data": {
      "text/plain": [
       "['A', 'B', 30.0, 'hello']"
      ]
     },
     "execution_count": 57,
     "metadata": {},
     "output_type": "execute_result"
    }
   ],
   "source": [
    "mylist=[10,20,30.0,\"hello\"]\n",
    "mylist[0:2]=\"A\",\"B\"\n",
    "mylist"
   ]
  },
  {
   "cell_type": "code",
   "execution_count": 59,
   "id": "301a6ce4-06f2-4513-8880-e1c29c58a74b",
   "metadata": {},
   "outputs": [
    {
     "data": {
      "text/plain": [
       "[10, 20, 30.0, 'hello', 'devesh']"
      ]
     },
     "execution_count": 59,
     "metadata": {},
     "output_type": "execute_result"
    }
   ],
   "source": [
    "#list function\n",
    "mylist=[10,20,30.0,\"hello\"]\n",
    "mylist.append(\"devesh\")\n",
    "mylist"
   ]
  },
  {
   "cell_type": "code",
   "execution_count": 62,
   "id": "8ca358e1-134f-4c25-b047-da9360c5669d",
   "metadata": {},
   "outputs": [
    {
     "data": {
      "text/plain": [
       "[10, 20, 30.0, 'hello', 'y', 'a', 's', 'h']"
      ]
     },
     "execution_count": 62,
     "metadata": {},
     "output_type": "execute_result"
    }
   ],
   "source": [
    "mylist=[10,20,30.0,\"hello\"]\n",
    "mylist.extend(\"yash\")\n",
    "mylist"
   ]
  },
  {
   "cell_type": "code",
   "execution_count": 63,
   "id": "2bb1cdc8-f0f1-45b9-b52e-534543a83938",
   "metadata": {},
   "outputs": [
    {
     "data": {
      "text/plain": [
       "[10, 20, 30.0, 'hello', 'yash']"
      ]
     },
     "execution_count": 63,
     "metadata": {},
     "output_type": "execute_result"
    }
   ],
   "source": [
    "mylist=[10,20,30.0,\"hello\"]\n",
    "mylist.extend([\"yash\"])\n",
    "mylist"
   ]
  },
  {
   "cell_type": "code",
   "execution_count": 65,
   "id": "f58d1b89-2805-439e-9a09-cdc2734335ae",
   "metadata": {},
   "outputs": [
    {
     "data": {
      "text/plain": [
       "[10, 20, 30.0, 'hello', 99, 98]"
      ]
     },
     "execution_count": 65,
     "metadata": {},
     "output_type": "execute_result"
    }
   ],
   "source": [
    "mylist=[10,20,30.0,\"hello\"]\n",
    "mylist.extend([99,98])\n",
    "mylist"
   ]
  },
  {
   "cell_type": "code",
   "execution_count": 73,
   "id": "ad750ff9-dad3-40c2-80d6-5f73daa9749d",
   "metadata": {},
   "outputs": [
    {
     "name": "stdout",
     "output_type": "stream",
     "text": [
      "[10, 20, 'hello', 500] 30.0\n"
     ]
    }
   ],
   "source": [
    "mylist=[10,20,30.0,\"hello\",500]\n",
    "x=mylist.pop(2)\n",
    "print(mylist,x)"
   ]
  },
  {
   "cell_type": "code",
   "execution_count": 79,
   "id": "5db33c95-7cbd-458d-ae5f-08af0ef2784d",
   "metadata": {},
   "outputs": [
    {
     "data": {
      "text/plain": [
       "[10, 30.0, 'hello', 500]"
      ]
     },
     "execution_count": 79,
     "metadata": {},
     "output_type": "execute_result"
    }
   ],
   "source": [
    "mylist=[10,20,30.0,\"hello\",500]\n",
    "mylist.remove(20)\n",
    "mylist"
   ]
  },
  {
   "cell_type": "code",
   "execution_count": 80,
   "id": "6fa24a44-393b-471a-ada8-1b785ee43a40",
   "metadata": {},
   "outputs": [
    {
     "data": {
      "text/plain": [
       "[10, 30.0, 'hello', 500, 20, 20]"
      ]
     },
     "execution_count": 80,
     "metadata": {},
     "output_type": "execute_result"
    }
   ],
   "source": [
    "mylist=[10,20,30.0,\"hello\",500,20,20]\n",
    "mylist.remove(20)\n",
    "mylist"
   ]
  },
  {
   "cell_type": "code",
   "execution_count": 82,
   "id": "6d1b9649-0fee-4c53-966b-2009df388652",
   "metadata": {},
   "outputs": [
    {
     "data": {
      "text/plain": [
       "['hello', 500, 20, 20]"
      ]
     },
     "execution_count": 82,
     "metadata": {},
     "output_type": "execute_result"
    }
   ],
   "source": [
    "del mylist[0:1]\n",
    "mylist"
   ]
  },
  {
   "cell_type": "code",
   "execution_count": null,
   "id": "0d6f6240-5ce4-4068-a4af-abeb31b10bce",
   "metadata": {},
   "outputs": [],
   "source": [
    "newlist=[10,20,30,40,\"hello\"]\n",
    "newlistt=[]\n",
    "for i in newlist:\n",
    "    if(type (i) is int ):\n",
    "        newlistt.append(i)\n"
   ]
  },
  {
   "cell_type": "raw",
   "id": "040ab97e-8c67-4cd2-9f1b-b1c5d50de71e",
   "metadata": {},
   "source": [
    "newlistt"
   ]
  },
  {
   "cell_type": "code",
   "execution_count": null,
   "id": "14281482-3a94-4053-9ee0-0f7622ee85c7",
   "metadata": {},
   "outputs": [],
   "source": []
  }
 ],
 "metadata": {
  "kernelspec": {
   "display_name": "Python 3 (ipykernel)",
   "language": "python",
   "name": "python3"
  },
  "language_info": {
   "codemirror_mode": {
    "name": "ipython",
    "version": 3
   },
   "file_extension": ".py",
   "mimetype": "text/x-python",
   "name": "python",
   "nbconvert_exporter": "python",
   "pygments_lexer": "ipython3",
   "version": "3.12.3"
  }
 },
 "nbformat": 4,
 "nbformat_minor": 5
}
