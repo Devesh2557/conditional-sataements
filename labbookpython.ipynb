{
 "cells": [
  {
   "cell_type": "code",
   "execution_count": null,
   "id": "6e2f768f-bc6b-4ed1-a8ce-f81b89052940",
   "metadata": {},
   "outputs": [],
   "source": [
    "name=\"Devesh\"\n",
    "print(\"hello\",name)"
   ]
  },
  {
   "cell_type": "code",
   "execution_count": null,
   "id": "32880c42-59f6-4d5f-bc44-9eac7ceffd70",
   "metadata": {},
   "outputs": [],
   "source": [
    "x=int(input(\"Enter the first number\"))\n",
    "y=int(input(\"Enter the second number\"))\n",
    "print(x+y)\n",
    "if(x+y>=0):\n",
    "    print(\"positive number\")\n",
    "else:\n",
    "    print(\"negative number\")"
   ]
  },
  {
   "cell_type": "code",
   "execution_count": null,
   "id": "b4db04dc-679d-4653-92d4-7aede89f4af5",
   "metadata": {},
   "outputs": [],
   "source": [
    "num=33\n",
    "while(true):\n",
    "    x=int(input(\"Enter the value\"))\n",
    "    if x==num:\n",
    "        print(\"correct\")"
   ]
  },
  {
   "cell_type": "code",
   "execution_count": null,
   "id": "84a49e32-8385-4c45-8b4a-6999fbec0600",
   "metadata": {},
   "outputs": [],
   "source": [
    "firstname=\"Devesh\"\n",
    "lastname=\"Sharma\"\n",
    "wholename=firstname+'.'+lastname\n",
    "print(wholename)"
   ]
  },
  {
   "cell_type": "code",
   "execution_count": null,
   "id": "757c47e4-6223-4f9f-9758-cb61c79f9eaf",
   "metadata": {},
   "outputs": [],
   "source": [
    "string=str(input(\"Enter a string:hello user \"))\n",
    "\n",
    "print(string.swapcase())"
   ]
  },
  {
   "cell_type": "code",
   "execution_count": null,
   "id": "9b2e8d9a-97df-4f68-ae1f-6d2dd103d4a7",
   "metadata": {},
   "outputs": [],
   "source": [
    "d=0\n",
    "e=1\n",
    "mylist=[1,2,3,4]\n",
    "for i in mylist:\n",
    "    d+=i\n",
    "    e*=i\n",
    "print(d,e)"
   ]
  },
  {
   "cell_type": "code",
   "execution_count": null,
   "id": "25b42488-89ae-47e0-bc3a-cb0f462f1f26",
   "metadata": {},
   "outputs": [],
   "source": [
    "num = int(input(\"enter the length of string\"))\n",
    "a = []\n",
    "for i in range(0,num):\n",
    "    item = input(\"enter the item\")\n",
    "    a.append(item)\n",
    "print(a)\n",
    "x = input(\"ente the value to check the item present or not in list\")\n",
    "for j in a:\n",
    "    if(x==j):\n",
    "        print(\"present\")\n",
    "        break\n",
    "    else:\n",
    "        print(\"not present\")\n",
    "        break"
   ]
  },
  {
   "cell_type": "code",
   "execution_count": null,
   "id": "9de39cba-0f41-4a7a-b8f6-14fb5217da98",
   "metadata": {},
   "outputs": [],
   "source": [
    "num = int(input(\" enter number of item\"))\n",
    "list=[]\n",
    "for i in range(0,num):\n",
    "    item = int(input(\"enter the item\"))\n",
    "    list.append(item)\n",
    "print(list)\n",
    "\n",
    "for j in list:\n",
    "    print(\"*\"*j)\n",
    "print()"
   ]
  },
  {
   "cell_type": "code",
   "execution_count": null,
   "id": "737ba06f-9387-4345-ace5-74158fbd8d07",
   "metadata": {},
   "outputs": [],
   "source": []
  }
 ],
 "metadata": {
  "kernelspec": {
   "display_name": "Python 3 (ipykernel)",
   "language": "python",
   "name": "python3"
  },
  "language_info": {
   "codemirror_mode": {
    "name": "ipython",
    "version": 3
   },
   "file_extension": ".py",
   "mimetype": "text/x-python",
   "name": "python",
   "nbconvert_exporter": "python",
   "pygments_lexer": "ipython3",
   "version": "3.12.3"
  }
 },
 "nbformat": 4,
 "nbformat_minor": 5
}
