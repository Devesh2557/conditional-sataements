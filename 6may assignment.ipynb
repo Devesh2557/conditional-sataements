{
 "cells": [
  {
   "cell_type": "code",
   "execution_count": 2,
   "id": "ee0aa026-d097-4da0-a2c9-6b34ff3ffc83",
   "metadata": {},
   "outputs": [
    {
     "name": "stdin",
     "output_type": "stream",
     "text": [
      "enter a number 5\n",
      "enter second number 6\n"
     ]
    },
    {
     "name": "stdout",
     "output_type": "stream",
     "text": [
      "The lcm of 5 and 6 is 30\n"
     ]
    }
   ],
   "source": [
    "# create a function and find out the lcm of 2 numbers \n",
    "def func(x,y):\n",
    "    if x<y:\n",
    "        biggest=y\n",
    "    else:\n",
    "        biggest=x\n",
    "    while(True):\n",
    "        if((biggest%x==0) and (biggest%y==0)):\n",
    "            func=biggest\n",
    "            break\n",
    "        biggest+=1\n",
    "    return func\n",
    "\n",
    "a=int(input(\"enter a number\"))\n",
    "b=int(input(\"enter second number\"))\n",
    "print(\"The lcm of\", a,\"and\", b,\"is\",func(a,b)) "
   ]
  },
  {
   "cell_type": "code",
   "execution_count": 8,
   "id": "ee2f7d4b-2706-412f-b656-6d0b46b2e8b4",
   "metadata": {},
   "outputs": [
    {
     "name": "stdin",
     "output_type": "stream",
     "text": [
      "Enter the number to check prime =  1\n"
     ]
    },
    {
     "name": "stdout",
     "output_type": "stream",
     "text": [
      "1 is a prime number\n"
     ]
    }
   ],
   "source": [
    "# create a function and find the prime number from the input\n",
    "def prime(y):\n",
    "    if y == 2:\n",
    "        print(y,\"is a prime number\")\n",
    "    else:\n",
    "        for i in range(2,y):\n",
    "            if (y%i)==0:\n",
    "                print(y, \"is not a prime number\")\n",
    "                break\n",
    "        else:\n",
    "            print(y, \"is a prime number\")\n",
    "\n",
    "y=int(input(\"Enter the number to check prime = \"))\n",
    "prime(y)"
   ]
  },
  {
   "cell_type": "code",
   "execution_count": null,
   "id": "70b9c416-a33c-40e9-8372-ae7b1302a0c3",
   "metadata": {},
   "outputs": [],
   "source": []
  }
 ],
 "metadata": {
  "kernelspec": {
   "display_name": "Python 3 (ipykernel)",
   "language": "python",
   "name": "python3"
  },
  "language_info": {
   "codemirror_mode": {
    "name": "ipython",
    "version": 3
   },
   "file_extension": ".py",
   "mimetype": "text/x-python",
   "name": "python",
   "nbconvert_exporter": "python",
   "pygments_lexer": "ipython3",
   "version": "3.12.3"
  }
 },
 "nbformat": 4,
 "nbformat_minor": 5
}
