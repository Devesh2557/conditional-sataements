{
 "cells": [
  {
   "cell_type": "code",
   "execution_count": 3,
   "id": "e04a9a5a-f123-408a-8a06-69bc26b9b762",
   "metadata": {},
   "outputs": [],
   "source": [
    "#type of function\n",
    "#positional\n",
    "#keyword\n",
    "#default\n",
    "#variable length argument"
   ]
  },
  {
   "cell_type": "code",
   "execution_count": 4,
   "id": "a2dd9878-c0d6-47e9-93c7-7bb86d5358f0",
   "metadata": {},
   "outputs": [
    {
     "name": "stdout",
     "output_type": "stream",
     "text": [
      "Eid: tushar \n",
      "Ename: tushar@gmail.com \n",
      "Email: 100\n"
     ]
    }
   ],
   "source": [
    "def employee(eid, ename, email):\n",
    "    print(f\"Eid: {eid} \\nEname: {ename} \\nEmail: {email}\" )\n",
    "    \n",
    "#positional argument:- should be at left most side\n",
    "employee(\"tushar\", \"tushar@gmail.com\", 100)"
   ]
  },
  {
   "cell_type": "code",
   "execution_count": 5,
   "id": "2e082426-8690-443f-aa79-da82b4a5d6f1",
   "metadata": {},
   "outputs": [
    {
     "name": "stdout",
     "output_type": "stream",
     "text": [
      "Eid: 100 \n",
      "Ename: tushar \n",
      "Email: tushar@gmail.com\n"
     ]
    }
   ],
   "source": [
    "def employee(eid, ename, email):\n",
    "    print(f\"Eid: {eid} \\nEname: {ename} \\nEmail: {email}\" )\n",
    "    \n",
    "#keyword argument:- should be at right most side\n",
    "employee(ename=\"tushar\", email=\"tushar@gmail.com\", eid=100)"
   ]
  },
  {
   "cell_type": "code",
   "execution_count": 6,
   "id": "731386c9-7183-4de9-a783-5335a3f7ce64",
   "metadata": {},
   "outputs": [
    {
     "name": "stdout",
     "output_type": "stream",
     "text": [
      "Eid: 100 \n",
      "Ename: tushar \n",
      "Email: tushar@gmail.com\n"
     ]
    }
   ],
   "source": [
    "def employee(eid, ename, email):\n",
    "    print(f\"Eid: {eid} \\nEname: {ename} \\nEmail: {email}\" )\n",
    "    \n",
    "#positional + keyword argument\n",
    "employee(100, ename=\"tushar\", email=\"tushar@gmail.com\")"
   ]
  },
  {
   "cell_type": "code",
   "execution_count": 7,
   "id": "e28290fd-70ff-4032-82c0-f1967cb06640",
   "metadata": {},
   "outputs": [
    {
     "ename": "TypeError",
     "evalue": "employee() got multiple values for argument 'eid'",
     "output_type": "error",
     "traceback": [
      "\u001b[1;31m---------------------------------------------------------------------------\u001b[0m",
      "\u001b[1;31mTypeError\u001b[0m                                 Traceback (most recent call last)",
      "Cell \u001b[1;32mIn[7], line 5\u001b[0m\n\u001b[0;32m      2\u001b[0m     \u001b[38;5;28mprint\u001b[39m(\u001b[38;5;124mf\u001b[39m\u001b[38;5;124m\"\u001b[39m\u001b[38;5;124mEid: \u001b[39m\u001b[38;5;132;01m{\u001b[39;00meid\u001b[38;5;132;01m}\u001b[39;00m\u001b[38;5;124m \u001b[39m\u001b[38;5;130;01m\\n\u001b[39;00m\u001b[38;5;124mEname: \u001b[39m\u001b[38;5;132;01m{\u001b[39;00mename\u001b[38;5;132;01m}\u001b[39;00m\u001b[38;5;124m \u001b[39m\u001b[38;5;130;01m\\n\u001b[39;00m\u001b[38;5;124mEmail: \u001b[39m\u001b[38;5;132;01m{\u001b[39;00memail\u001b[38;5;132;01m}\u001b[39;00m\u001b[38;5;124m\"\u001b[39m )\n\u001b[0;32m      4\u001b[0m \u001b[38;5;66;03m#positional + keyword argument\u001b[39;00m\n\u001b[1;32m----> 5\u001b[0m \u001b[43memployee\u001b[49m\u001b[43m(\u001b[49m\u001b[38;5;241;43m100\u001b[39;49m\u001b[43m,\u001b[49m\u001b[43m \u001b[49m\u001b[43mename\u001b[49m\u001b[38;5;241;43m=\u001b[39;49m\u001b[38;5;124;43m\"\u001b[39;49m\u001b[38;5;124;43mtushar\u001b[39;49m\u001b[38;5;124;43m\"\u001b[39;49m\u001b[43m,\u001b[49m\u001b[43m \u001b[49m\u001b[43memail\u001b[49m\u001b[38;5;241;43m=\u001b[39;49m\u001b[38;5;124;43m\"\u001b[39;49m\u001b[38;5;124;43mtushar@gmail.com\u001b[39;49m\u001b[38;5;124;43m\"\u001b[39;49m\u001b[43m,\u001b[49m\u001b[43m \u001b[49m\u001b[43meid\u001b[49m\u001b[38;5;241;43m=\u001b[39;49m\u001b[38;5;241;43m100\u001b[39;49m\u001b[43m)\u001b[49m\n",
      "\u001b[1;31mTypeError\u001b[0m: employee() got multiple values for argument 'eid'"
     ]
    }
   ],
   "source": [
    "def employee(eid, ename, email):\n",
    "    print(f\"Eid: {eid} \\nEname: {ename} \\nEmail: {email}\" )\n",
    "    \n",
    "#positional + keyword argument\n",
    "employee(100, ename=\"tushar\", email=\"tushar@gmail.com\", eid=100)"
   ]
  },
  {
   "cell_type": "code",
   "execution_count": 8,
   "id": "4f060550-3f27-4f09-b1a7-b27beae55057",
   "metadata": {},
   "outputs": [
    {
     "name": "stdout",
     "output_type": "stream",
     "text": [
      "Eid: 100 \n",
      "Ename: tushar \n",
      "Email: regex@gmail.com\n",
      "Eid: 100 \n",
      "Ename: tushar \n",
      "Email: aman@gmail.com\n"
     ]
    }
   ],
   "source": [
    "def employee(eid,ename, email= \"regex@gmail.com\"):\n",
    "    print(f\"Eid: {eid} \\nEname: {ename} \\nEmail: {email}\" )\n",
    "    \n",
    "#default argument:- at function declaration, also, they should be at the end of the function, rightmost side\n",
    "employee(100, \"tushar\")\n",
    "\n",
    "employee(100, \"tushar\", \"aman@gmail.com\")"
   ]
  },
  {
   "cell_type": "code",
   "execution_count": 10,
   "id": "23ab6146-c18f-4632-b4fb-5f4e4cbfa874",
   "metadata": {},
   "outputs": [
    {
     "ename": "TypeError",
     "evalue": "instagram() missing 1 required positional argument: 'mobile'",
     "output_type": "error",
     "traceback": [
      "\u001b[1;31m---------------------------------------------------------------------------\u001b[0m",
      "\u001b[1;31mTypeError\u001b[0m                                 Traceback (most recent call last)",
      "Cell \u001b[1;32mIn[10], line 5\u001b[0m\n\u001b[0;32m      2\u001b[0m \u001b[38;5;28;01mdef\u001b[39;00m \u001b[38;5;21minstagram\u001b[39m(username, dob, mobile):\n\u001b[0;32m      3\u001b[0m     \u001b[38;5;28mprint\u001b[39m(username, dob, mobile)\n\u001b[1;32m----> 5\u001b[0m \u001b[43minstagram\u001b[49m\u001b[43m(\u001b[49m\u001b[38;5;124;43m\"\u001b[39;49m\u001b[38;5;124;43maman\u001b[39;49m\u001b[38;5;124;43m\"\u001b[39;49m\u001b[43m,\u001b[49m\u001b[43m \u001b[49m\u001b[38;5;124;43m\"\u001b[39;49m\u001b[38;5;124;43m17/02/2000\u001b[39;49m\u001b[38;5;124;43m\"\u001b[39;49m\u001b[43m)\u001b[49m\n",
      "\u001b[1;31mTypeError\u001b[0m: instagram() missing 1 required positional argument: 'mobile'"
     ]
    }
   ],
   "source": [
    "#variabe length argument\n",
    "def instagram(username, dob, mobile):\n",
    "    print(username, dob, mobile)\n",
    "\n",
    "instagram(\"aman\", \"17/02/2000\")"
   ]
  },
  {
   "cell_type": "code",
   "execution_count": 11,
   "id": "5f722083-8e99-4a80-8630-0805204b7092",
   "metadata": {},
   "outputs": [
    {
     "name": "stdout",
     "output_type": "stream",
     "text": [
      "('hello', 1000) <class 'tuple'>\n"
     ]
    }
   ],
   "source": [
    "#variabe length argument:- take values as per user requirement\n",
    "def instagram(*data):\n",
    "    print(data, type(data))\n",
    "\n",
    "instagram(\"hello\", 1000)\n",
    "#drawback:- we dont know the sequence of value:- to overcome we use keyword length argument in python"
   ]
  },
  {
   "cell_type": "code",
   "execution_count": 12,
   "id": "5e7876fb-a65e-4512-a089-dcaa4c17126d",
   "metadata": {},
   "outputs": [
    {
     "name": "stdout",
     "output_type": "stream",
     "text": [
      "{'salary': 100000, 'age': 24, 'msg': 'hello'} <class 'dict'>\n",
      "{'msg': 'happy', 'salary': 99} <class 'dict'>\n"
     ]
    }
   ],
   "source": [
    "#keyword-variable length argument\n",
    "#*args vs **kwargs :- variable length argument(we dont define the key) vs keyword length argument(we define the key only in keyword argument)\n",
    "def instagram(**data):\n",
    "    print(data, type(data))\n",
    "\n",
    "instagram(salary=100000,age=24,msg=\"hello\")\n",
    "instagram(msg=\"happy\", salary=99)\n",
    "#drwback:- we dont know the sequence of value:- to overcome we use keyword length argument in python"
   ]
  },
  {
   "cell_type": "code",
   "execution_count": 13,
   "id": "61ed1a5c-2c8e-4650-8801-e19ccc9dc8de",
   "metadata": {},
   "outputs": [],
   "source": [
    "#first class functions and \n",
    "#high ordered function"
   ]
  },
  {
   "cell_type": "code",
   "execution_count": 14,
   "id": "4f18242e-bf0b-40cf-aaf0-4c542d02fae2",
   "metadata": {},
   "outputs": [
    {
     "data": {
      "text/plain": [
       "<function __main__.func()>"
      ]
     },
     "execution_count": 14,
     "metadata": {},
     "output_type": "execute_result"
    }
   ],
   "source": [
    "def func():\n",
    "    print(\"Hello\")\n",
    "\n",
    "func"
   ]
  },
  {
   "cell_type": "code",
   "execution_count": 15,
   "id": "45a07c99-a196-4312-8aa0-a2bb26cc4d3c",
   "metadata": {},
   "outputs": [
    {
     "name": "stdout",
     "output_type": "stream",
     "text": [
      "<function func at 0x0000020BEAC6F880>\n",
      "<function func at 0x0000020BEAC6F880>\n",
      "Hello\n"
     ]
    }
   ],
   "source": [
    "#first class function:- we have stored function in a variable, that is called first class function\n",
    "def func():\n",
    "    print(\"Hello\")\n",
    "\n",
    "print(func) #memory address\n",
    "x=func #store memory address of func, we dont use () when we store memory address\n",
    "print(x)\n",
    "x()"
   ]
  },
  {
   "cell_type": "code",
   "execution_count": 16,
   "id": "2e947313-a2e7-4c6a-bda0-dd7ffaf5475f",
   "metadata": {},
   "outputs": [
    {
     "name": "stdout",
     "output_type": "stream",
     "text": [
      "<function func at 0x0000020BEAC6F600>\n",
      "Hello\n",
      "None\n"
     ]
    },
    {
     "ename": "TypeError",
     "evalue": "'NoneType' object is not callable",
     "output_type": "error",
     "traceback": [
      "\u001b[1;31m---------------------------------------------------------------------------\u001b[0m",
      "\u001b[1;31mTypeError\u001b[0m                                 Traceback (most recent call last)",
      "Cell \u001b[1;32mIn[16], line 7\u001b[0m\n\u001b[0;32m      5\u001b[0m x\u001b[38;5;241m=\u001b[39mfunc() \u001b[38;5;66;03m#function is called and it dont return anything  so output is none\u001b[39;00m\n\u001b[0;32m      6\u001b[0m \u001b[38;5;28mprint\u001b[39m(x)\n\u001b[1;32m----> 7\u001b[0m \u001b[43mx\u001b[49m\u001b[43m(\u001b[49m\u001b[43m)\u001b[49m\n",
      "\u001b[1;31mTypeError\u001b[0m: 'NoneType' object is not callable"
     ]
    }
   ],
   "source": [
    "def func():\n",
    "    print(\"Hello\")\n",
    "\n",
    "print(func) #memory address\n",
    "x=func() #function is called and it dont return anything  so output is none\n",
    "print(x)\n",
    "x()"
   ]
  },
  {
   "cell_type": "code",
   "execution_count": 17,
   "id": "dc67e615-cad8-40eb-879c-82f9dfe807f7",
   "metadata": {},
   "outputs": [
    {
     "name": "stdout",
     "output_type": "stream",
     "text": [
      "100\n",
      "None\n"
     ]
    }
   ],
   "source": [
    "def square(x):\n",
    "    print(x*x)\n",
    "    \n",
    "print(square(10)) #none as it does not return anything"
   ]
  },
  {
   "cell_type": "code",
   "execution_count": 18,
   "id": "1a3d2298-d264-4661-9c09-3f059ca41eb6",
   "metadata": {},
   "outputs": [
    {
     "name": "stdout",
     "output_type": "stream",
     "text": [
      "100\n",
      "hey\n"
     ]
    }
   ],
   "source": [
    "def square(x):\n",
    "    print(x*x)\n",
    "    return \"hey\"\n",
    "print(square(10))"
   ]
  },
  {
   "cell_type": "code",
   "execution_count": 19,
   "id": "06462d63-a320-43db-8970-ac4d724e0fb6",
   "metadata": {},
   "outputs": [
    {
     "name": "stdout",
     "output_type": "stream",
     "text": [
      "30\n",
      "100\n"
     ]
    }
   ],
   "source": [
    "def square(x):\n",
    "    print(x*x)\n",
    "\n",
    "def addNo(z, func):\n",
    "    print(z+func)\n",
    "    \n",
    "addNo(10,20)\n",
    "square(10)"
   ]
  },
  {
   "cell_type": "code",
   "execution_count": 20,
   "id": "c827d270-1cdf-4b42-b63a-9700f77b445d",
   "metadata": {},
   "outputs": [
    {
     "name": "stdout",
     "output_type": "stream",
     "text": [
      "225\n",
      "10 None\n"
     ]
    }
   ],
   "source": [
    "def square(x):\n",
    "    print(x*x)\n",
    "\n",
    "def addNo(z, func):\n",
    "    print(z, func)\n",
    "    \n",
    "addNo(10, square(15))"
   ]
  },
  {
   "cell_type": "code",
   "execution_count": 21,
   "id": "d5da3254-4a7b-49ca-98f4-886f55722b7f",
   "metadata": {},
   "outputs": [
    {
     "name": "stdout",
     "output_type": "stream",
     "text": [
      "10 225\n"
     ]
    }
   ],
   "source": [
    "def square(x):\n",
    "    return x*x\n",
    "\n",
    "def addNo(z, func):\n",
    "    print(z, func)\n",
    "    \n",
    "addNo(10, square(15))"
   ]
  },
  {
   "cell_type": "code",
   "execution_count": 22,
   "id": "58325610-3809-4556-aa4a-cf3780fc527d",
   "metadata": {},
   "outputs": [
    {
     "name": "stdout",
     "output_type": "stream",
     "text": [
      "10 <function square at 0x0000020BEB1DC860>\n"
     ]
    }
   ],
   "source": [
    "#high order function \n",
    "#pass square as argument in another function\n",
    "def square(x):\n",
    "    return x*x\n",
    "\n",
    "def addNo(z, func):\n",
    "    print(z, func)\n",
    "    \n",
    "addNo(10, square)#memory address of square"
   ]
  },
  {
   "cell_type": "code",
   "execution_count": 23,
   "id": "7bafab4d-8c14-4523-8eef-2e8cc78a5549",
   "metadata": {},
   "outputs": [
    {
     "ename": "TypeError",
     "evalue": "square() missing 1 required positional argument: 'x'",
     "output_type": "error",
     "traceback": [
      "\u001b[1;31m---------------------------------------------------------------------------\u001b[0m",
      "\u001b[1;31mTypeError\u001b[0m                                 Traceback (most recent call last)",
      "Cell \u001b[1;32mIn[23], line 8\u001b[0m\n\u001b[0;32m      5\u001b[0m \u001b[38;5;28;01mdef\u001b[39;00m \u001b[38;5;21maddNo\u001b[39m(z, func):\n\u001b[0;32m      6\u001b[0m     \u001b[38;5;28mprint\u001b[39m(z, func())\n\u001b[1;32m----> 8\u001b[0m \u001b[43maddNo\u001b[49m\u001b[43m(\u001b[49m\u001b[38;5;241;43m10\u001b[39;49m\u001b[43m,\u001b[49m\u001b[43m \u001b[49m\u001b[43msquare\u001b[49m\u001b[43m)\u001b[49m\u001b[38;5;66;03m#memory address of square\u001b[39;00m\n",
      "Cell \u001b[1;32mIn[23], line 6\u001b[0m, in \u001b[0;36maddNo\u001b[1;34m(z, func)\u001b[0m\n\u001b[0;32m      5\u001b[0m \u001b[38;5;28;01mdef\u001b[39;00m \u001b[38;5;21maddNo\u001b[39m(z, func):\n\u001b[1;32m----> 6\u001b[0m     \u001b[38;5;28mprint\u001b[39m(z, \u001b[43mfunc\u001b[49m\u001b[43m(\u001b[49m\u001b[43m)\u001b[49m)\n",
      "\u001b[1;31mTypeError\u001b[0m: square() missing 1 required positional argument: 'x'"
     ]
    }
   ],
   "source": [
    "#pass square as argument in another function\n",
    "def square(x):\n",
    "    return x*x\n",
    "\n",
    "def addNo(z, func):\n",
    "    print(z, func())\n",
    "    \n",
    "addNo(10, square)#memory address of square"
   ]
  },
  {
   "cell_type": "code",
   "execution_count": 24,
   "id": "15d5ba40-4958-44e0-810a-d16b74ca37a4",
   "metadata": {},
   "outputs": [
    {
     "name": "stdout",
     "output_type": "stream",
     "text": [
      "10 400\n"
     ]
    }
   ],
   "source": [
    "#pass square as argument in another function\n",
    "def square(x):\n",
    "    return x*x\n",
    "\n",
    "def addNo(z, func):\n",
    "    print(z, func(20))\n",
    "    \n",
    "addNo(10, square)#memory address of square"
   ]
  },
  {
   "cell_type": "code",
   "execution_count": null,
   "id": "4e8dd20a-0652-4ffb-849d-89d8a5751363",
   "metadata": {},
   "outputs": [],
   "source": []
  }
 ],
 "metadata": {
  "kernelspec": {
   "display_name": "Python 3 (ipykernel)",
   "language": "python",
   "name": "python3"
  },
  "language_info": {
   "codemirror_mode": {
    "name": "ipython",
    "version": 3
   },
   "file_extension": ".py",
   "mimetype": "text/x-python",
   "name": "python",
   "nbconvert_exporter": "python",
   "pygments_lexer": "ipython3",
   "version": "3.12.3"
  }
 },
 "nbformat": 4,
 "nbformat_minor": 5
}
