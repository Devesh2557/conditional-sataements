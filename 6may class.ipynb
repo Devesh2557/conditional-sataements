{
 "cells": [
  {
   "cell_type": "code",
   "execution_count": 1,
   "id": "9ec201c2-8a39-498a-b48d-a29c4c6b0551",
   "metadata": {},
   "outputs": [],
   "source": [
    "# function \n",
    "# block of code-reuse\n"
   ]
  },
  {
   "cell_type": "code",
   "execution_count": 6,
   "id": "c735f7d3-6048-4ebc-8aa3-538911b94adf",
   "metadata": {},
   "outputs": [],
   "source": [
    "def func():\n",
    "    print(\"hello\")"
   ]
  },
  {
   "cell_type": "code",
   "execution_count": 7,
   "id": "69900523-9d57-411c-93cb-c78b9e535d2f",
   "metadata": {},
   "outputs": [
    {
     "name": "stdout",
     "output_type": "stream",
     "text": [
      "hello\n",
      "hello\n",
      "hello\n",
      "hello\n"
     ]
    }
   ],
   "source": [
    "#fumction call\n",
    "func()\n",
    "func()\n",
    "func()\n",
    "func()"
   ]
  },
  {
   "cell_type": "code",
   "execution_count": 13,
   "id": "fa4f6982-4220-4fca-802c-762293bfcb73",
   "metadata": {},
   "outputs": [
    {
     "name": "stdout",
     "output_type": "stream",
     "text": [
      "hello tushar\n"
     ]
    }
   ],
   "source": [
    "# parameter / formal parameter / informal argument\n",
    "def func(x):\n",
    "    print(\"hello\",x)\n",
    "func(\"tushar\")"
   ]
  },
  {
   "cell_type": "code",
   "execution_count": 15,
   "id": "8ae980f5-20dc-4405-99a2-d21f1caa9b5a",
   "metadata": {},
   "outputs": [
    {
     "name": "stdout",
     "output_type": "stream",
     "text": [
      "hello aman\n"
     ]
    }
   ],
   "source": [
    "func(\"aman\")"
   ]
  },
  {
   "cell_type": "code",
   "execution_count": 16,
   "id": "00c0e103-09b4-468e-8f97-b96c5d6dfb28",
   "metadata": {},
   "outputs": [
    {
     "name": "stdout",
     "output_type": "stream",
     "text": [
      "30\n"
     ]
    }
   ],
   "source": [
    "def func(x,y):\n",
    "    print(x+y)\n",
    "#10 argument / formal argument / informal argument\n",
    "func(10,20)"
   ]
  },
  {
   "cell_type": "code",
   "execution_count": 28,
   "id": "67808b16-34d4-4507-bf80-a951d4121ae2",
   "metadata": {},
   "outputs": [
    {
     "name": "stdout",
     "output_type": "stream",
     "text": [
      "18\n",
      "None\n"
     ]
    }
   ],
   "source": [
    "def func(x,y):\n",
    "    print(x+y)\n",
    "    \n",
    "\n",
    "out=func(5,13)\n",
    "print(out)"
   ]
  },
  {
   "cell_type": "code",
   "execution_count": 29,
   "id": "198a28eb-0831-48d4-859e-1d55aa4eab6a",
   "metadata": {},
   "outputs": [
    {
     "name": "stdout",
     "output_type": "stream",
     "text": [
      "18\n",
      "out 10\n"
     ]
    }
   ],
   "source": [
    "def func(x,y):\n",
    "    print(x+y)\n",
    "    return \"10\"\n",
    "\n",
    "out=func(5,13)\n",
    "print(\"out\",out)"
   ]
  },
  {
   "cell_type": "code",
   "execution_count": 30,
   "id": "a7222d26-13b7-446a-83ee-9e72bb580821",
   "metadata": {},
   "outputs": [
    {
     "name": "stdout",
     "output_type": "stream",
     "text": [
      "out 18\n"
     ]
    }
   ],
   "source": [
    "def func(x,y):\n",
    "    return x+y\n",
    "\n",
    "out=func(5,13)\n",
    "print(\"out\",out)"
   ]
  },
  {
   "cell_type": "code",
   "execution_count": 31,
   "id": "ca2e09c8-7e4e-4ae8-a905-0fe04600527a",
   "metadata": {},
   "outputs": [],
   "source": [
    "# python prefers call by object reference"
   ]
  },
  {
   "cell_type": "code",
   "execution_count": 35,
   "id": "c0cff981-5c86-464e-a91c-c5c575ac71c4",
   "metadata": {},
   "outputs": [
    {
     "name": "stdout",
     "output_type": "stream",
     "text": [
      "20\n",
      "10\n"
     ]
    }
   ],
   "source": [
    "def func(x):\n",
    "    print(x+10)\n",
    "x=10\n",
    "func(10)\n",
    "print(x)"
   ]
  },
  {
   "cell_type": "code",
   "execution_count": 41,
   "id": "15c01cb2-3380-4aba-9d8f-544ab5d52acb",
   "metadata": {},
   "outputs": [
    {
     "name": "stdout",
     "output_type": "stream",
     "text": [
      "20\n",
      "10\n"
     ]
    }
   ],
   "source": [
    "def func(x):\n",
    "    print(x+10)\n",
    "x=10\n",
    "func(x)\n",
    "print(x)"
   ]
  },
  {
   "cell_type": "code",
   "execution_count": 42,
   "id": "b044ef31-afe4-4d40-961d-07cbf6a8329b",
   "metadata": {},
   "outputs": [
    {
     "name": "stdout",
     "output_type": "stream",
     "text": [
      "20\n",
      "10\n"
     ]
    }
   ],
   "source": [
    "def func(x):\n",
    "    x=x+10\n",
    "    print(x)\n",
    "x=10\n",
    "func(x)\n",
    "print(x)"
   ]
  },
  {
   "cell_type": "code",
   "execution_count": 48,
   "id": "2a6c40a8-ad8b-4d34-86e2-3752c6b315c2",
   "metadata": {},
   "outputs": [
    {
     "name": "stdout",
     "output_type": "stream",
     "text": [
      "list1 memory 1459686898432\n",
      "['tushar', 2, 3, 4] 1459686898432\n",
      "value of list ['tushar', 2, 3, 4]\n"
     ]
    }
   ],
   "source": [
    "def func(x):\n",
    "    x[0]=\"tushar\"\n",
    "    print(x,id(x))\n",
    "\n",
    "list1=[100,2,3,4]\n",
    "print(\"list1 memory\",id(list1))\n",
    "func(list1)\n",
    "print(\"value of list\", list1)\n"
   ]
  },
  {
   "cell_type": "code",
   "execution_count": 49,
   "id": "d6b4d206-8d24-463c-a040-e8bf2a78e6f3",
   "metadata": {},
   "outputs": [],
   "source": [
    "# create a function and find out the lcm of 2 numbers \n",
    "# create a function and find the prime number from the input\n",
    "\n",
    "# create a function which takes 1 parameter as int\n",
    "# and print the folowwing meter\n",
    "# * * *\n",
    "#  * *\n",
    "#   *"
   ]
  },
  {
   "cell_type": "code",
   "execution_count": 7,
   "id": "50aea01d-0811-4a86-b2dc-3fa5024bb6ce",
   "metadata": {},
   "outputs": [
    {
     "name": "stdin",
     "output_type": "stream",
     "text": [
      "enter a number 2\n",
      "enter second number 9\n"
     ]
    },
    {
     "name": "stdout",
     "output_type": "stream",
     "text": [
      "The lcm of 2 and 9 is 18\n"
     ]
    }
   ],
   "source": [
    "def func(x,y):\n",
    "    if x<y:\n",
    "        biggest=y\n",
    "    else:\n",
    "        biggest=x\n",
    "    while(True):\n",
    "        if((biggest%x==0) and (biggest%y==0)):\n",
    "            func=biggest\n",
    "            break\n",
    "        biggest+=1\n",
    "    return func\n",
    "\n",
    "a=int(input(\"enter a number\"))\n",
    "b=int(input(\"enter second number\"))\n",
    "print(\"The lcm of\", a,\"and\", b,\"is\",func(a,b)) "
   ]
  },
  {
   "cell_type": "code",
   "execution_count": null,
   "id": "d038095c-d3e6-44bb-b33b-cae429622390",
   "metadata": {},
   "outputs": [],
   "source": []
  }
 ],
 "metadata": {
  "kernelspec": {
   "display_name": "Python 3 (ipykernel)",
   "language": "python",
   "name": "python3"
  },
  "language_info": {
   "codemirror_mode": {
    "name": "ipython",
    "version": 3
   },
   "file_extension": ".py",
   "mimetype": "text/x-python",
   "name": "python",
   "nbconvert_exporter": "python",
   "pygments_lexer": "ipython3",
   "version": "3.12.3"
  }
 },
 "nbformat": 4,
 "nbformat_minor": 5
}
