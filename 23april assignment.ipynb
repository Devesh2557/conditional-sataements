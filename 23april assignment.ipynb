{
 "cells": [
  {
   "cell_type": "code",
   "execution_count": 1,
   "id": "7eb862e2-e14e-4dc5-83a0-b9519224d71e",
   "metadata": {},
   "outputs": [
    {
     "name": "stdout",
     "output_type": "stream",
     "text": [
      "* * * *  \n",
      "* * *  \n",
      "* *  \n",
      "*  \n"
     ]
    }
   ],
   "source": [
    "for i in range (1,5):\n",
    "  for j in range(4, i-1, -1):\n",
    "    print(\"*\", end=\" \")\n",
    "  print(\" \")"
   ]
  },
  {
   "cell_type": "code",
   "execution_count": 2,
   "id": "c4ec7f2c-9758-45fb-bac7-70152b24b223",
   "metadata": {},
   "outputs": [
    {
     "name": "stdout",
     "output_type": "stream",
     "text": [
      "10  \n",
      "11 12  \n",
      "13 14 15  \n"
     ]
    }
   ],
   "source": [
    "num =9\n",
    "for i in range(1,4):\n",
    "  for j in range(1, i+1):\n",
    "    num +=1\n",
    "    print(num, end=\" \")\n",
    "  print(\" \")"
   ]
  },
  {
   "cell_type": "code",
   "execution_count": 3,
   "id": "7f30567c-d230-4ea3-82eb-0ffe6c68d4ae",
   "metadata": {},
   "outputs": [
    {
     "name": "stdout",
     "output_type": "stream",
     "text": [
      "10  \n",
      "10 11  \n",
      "10 11 12  \n",
      "10 11 12 13  \n"
     ]
    }
   ],
   "source": [
    "for i in range (10,14):\n",
    "  for j in range (10, i+1):\n",
    "    print(j, end =\" \")\n",
    "  print(\" \")"
   ]
  },
  {
   "cell_type": "code",
   "execution_count": 4,
   "id": "4a337e36-1984-4894-9aeb-de877bf3be27",
   "metadata": {},
   "outputs": [
    {
     "name": "stdout",
     "output_type": "stream",
     "text": [
      " \n",
      "A  \n",
      "A B  \n",
      "A B C  \n",
      "A B C D  \n"
     ]
    }
   ],
   "source": [
    "for i in range(64,69):\n",
    "  for j in range(65,i+1):\n",
    "    print(chr(j), end=\" \")\n",
    "  print(\" \")"
   ]
  },
  {
   "cell_type": "code",
   "execution_count": 5,
   "id": "af21d11f-7764-449e-801f-9d64d008455c",
   "metadata": {},
   "outputs": [
    {
     "name": "stdout",
     "output_type": "stream",
     "text": [
      "A  \n",
      "A B  \n",
      "A B C  \n",
      "A B C D  \n"
     ]
    }
   ],
   "source": [
    "for i in range(1,5):\n",
    "  for j in range(1, i+1):\n",
    "    print(chr(64+j), end = \" \")\n",
    "  print(\" \")"
   ]
  },
  {
   "cell_type": "code",
   "execution_count": 6,
   "id": "e513f241-e406-4afb-b507-0b6e5c813ca7",
   "metadata": {},
   "outputs": [
    {
     "name": "stdout",
     "output_type": "stream",
     "text": [
      "D \n",
      "D C \n",
      "D C B \n",
      "D C B A \n"
     ]
    }
   ],
   "source": [
    "for i in range(1, 5):\n",
    "    for j in range(4, 4-i, -1):\n",
    "        print(chr(64 + j), end=\" \")\n",
    "    print()\n"
   ]
  },
  {
   "cell_type": "code",
   "execution_count": 7,
   "id": "6aff6922-566d-4b07-96f8-43c8d8763114",
   "metadata": {},
   "outputs": [
    {
     "name": "stdout",
     "output_type": "stream",
     "text": [
      "D C B A \n",
      "D C B \n",
      "D C \n",
      "D \n"
     ]
    }
   ],
   "source": [
    "for i in range (1,5):\n",
    "  for j in range(4, i-1, -1):\n",
    "    print(chr(64+j), end=\" \")\n",
    "  print(\"\" )"
   ]
  },
  {
   "cell_type": "code",
   "execution_count": 8,
   "id": "1ff8ec73-f855-4b84-bc7d-0b9909496733",
   "metadata": {},
   "outputs": [
    {
     "name": "stdout",
     "output_type": "stream",
     "text": [
      "1  \n",
      "1 2  \n",
      "1 2 1  \n",
      "1 2 1 2  \n",
      "1 2 1 2 1  \n"
     ]
    }
   ],
   "source": [
    "for i in range(1,6):\n",
    "  for j in range(1,i+1):\n",
    "    if(j%2==0):\n",
    "      print(2, end=\" \")\n",
    "    else:\n",
    "      print(1, end=\" \" )\n",
    "  print(\" \")"
   ]
  },
  {
   "cell_type": "code",
   "execution_count": 9,
   "id": "aa42ec28-35c9-4391-a835-43c0c305785b",
   "metadata": {},
   "outputs": [
    {
     "name": "stdout",
     "output_type": "stream",
     "text": [
      "F  \n",
      "H J  \n",
      "L N P  \n",
      "R T V X  \n"
     ]
    }
   ],
   "source": [
    "num=70\n",
    "for i in range(1,5):\n",
    "  for j in range(1,i+1):\n",
    "    print(chr(num), end=\" \")\n",
    "    num+=2\n",
    "  print(\" \")"
   ]
  },
  {
   "cell_type": "code",
   "execution_count": 10,
   "id": "b0951c35-4ba5-4a80-b415-6374d10a1a06",
   "metadata": {},
   "outputs": [
    {
     "name": "stdout",
     "output_type": "stream",
     "text": [
      "* * * *  \n",
      "  * * *  \n",
      "    * *  \n",
      "      *  \n"
     ]
    }
   ],
   "source": [
    "for i in range(1,5):\n",
    "  for s in range(0, i-1):\n",
    "    print(\" \", end=\" \")\n",
    "  for j in range(4, i-1, -1):\n",
    "      print(\"*\", end=\" \")\n",
    "  print(\" \")"
   ]
  },
  {
   "cell_type": "code",
   "execution_count": null,
   "id": "988871d5-8c10-4faa-b560-3afde5106138",
   "metadata": {},
   "outputs": [],
   "source": []
  }
 ],
 "metadata": {
  "kernelspec": {
   "display_name": "Python 3 (ipykernel)",
   "language": "python",
   "name": "python3"
  },
  "language_info": {
   "codemirror_mode": {
    "name": "ipython",
    "version": 3
   },
   "file_extension": ".py",
   "mimetype": "text/x-python",
   "name": "python",
   "nbconvert_exporter": "python",
   "pygments_lexer": "ipython3",
   "version": "3.12.3"
  }
 },
 "nbformat": 4,
 "nbformat_minor": 5
}
