{
 "cells": [
  {
   "cell_type": "code",
   "execution_count": 3,
   "id": "a48992da-858c-4c16-9493-3424be453295",
   "metadata": {},
   "outputs": [
    {
     "name": "stdin",
     "output_type": "stream",
     "text": [
      "Enter the value to print weekday 4\n"
     ]
    },
    {
     "name": "stdout",
     "output_type": "stream",
     "text": [
      "Wednesday\n"
     ]
    }
   ],
   "source": [
    "x=int (input(\"Enter the value to print weekday\"))\n",
    "if(x==1):\n",
    "    print(\"Sunday\")\n",
    "elif(x==2):\n",
    "    print(\"Monday\")\n",
    "elif(x==3):\n",
    "    print(\"Tuesday\")\n",
    "elif(x==4):\n",
    "    print(\"Wednesday\")\n",
    "elif(x==5):\n",
    "    print(\"Thursday\")\n",
    "elif(x==6):\n",
    "    print(\"Friday\")\n",
    "elif(x==7):\n",
    "    print(\"Saturday\")\n",
    "else:\n",
    "    print(\"Invalid\")\n",
    "\n"
   ]
  },
  {
   "cell_type": "code",
   "execution_count": 4,
   "id": "f84046c0-9b0b-45b0-9ad1-8e52e4f50be5",
   "metadata": {},
   "outputs": [
    {
     "name": "stdin",
     "output_type": "stream",
     "text": [
      "Enter the value to print Month 13\n"
     ]
    },
    {
     "name": "stdout",
     "output_type": "stream",
     "text": [
      "Invalid\n"
     ]
    }
   ],
   "source": [
    "x=int (input(\"Enter the value to print Month\"))\n",
    "if(x==1):\n",
    "    print(\"January\")\n",
    "elif(x==2):\n",
    "    print(\"February\")\n",
    "elif(x==3):\n",
    "    print(\"March\")\n",
    "elif(x==4):\n",
    "    print(\"April\")\n",
    "elif(x==5):\n",
    "    print(\"May\")\n",
    "elif(x==6):\n",
    "    print(\"June\")\n",
    "elif(x==7):\n",
    "    print(\"July\")\n",
    "elif(x==8):\n",
    "    print(\"August\")\n",
    "elif(x==9):\n",
    "    print(\"September\")\n",
    "elif(x==10):\n",
    "    print(\"October\")\n",
    "elif(x==11):\n",
    "    print(\"November\")\n",
    "elif(x==12):\n",
    "    print(\"December\")\n",
    "else:\n",
    "    print(\"Invalid\")"
   ]
  },
  {
   "cell_type": "code",
   "execution_count": 5,
   "id": "f95df7d8-31e1-4bcd-95c1-20e5d76be4a6",
   "metadata": {},
   "outputs": [
    {
     "name": "stdin",
     "output_type": "stream",
     "text": [
      "Enter your percentage 65\n"
     ]
    },
    {
     "name": "stdout",
     "output_type": "stream",
     "text": [
      "Average\n"
     ]
    }
   ],
   "source": [
    "x=int (input(\"Enter your percentage\"))\n",
    "if(x<60):\n",
    "    print(\"Fail\")\n",
    "elif(x>=60 & x<=80):\n",
    "    print(\"Average\")\n",
    "elif(x>=81 & x<=90):\n",
    "    print(\"Good\")\n",
    "elif(x>=90):\n",
    "    print(\"Average\")\n",
    "else:\n",
    "    print(\"Invalid\")"
   ]
  },
  {
   "cell_type": "code",
   "execution_count": null,
   "id": "79b7a161-dc03-4a4f-bd44-b64b83d4a6ef",
   "metadata": {},
   "outputs": [],
   "source": []
  }
 ],
 "metadata": {
  "kernelspec": {
   "display_name": "Python 3 (ipykernel)",
   "language": "python",
   "name": "python3"
  },
  "language_info": {
   "codemirror_mode": {
    "name": "ipython",
    "version": 3
   },
   "file_extension": ".py",
   "mimetype": "text/x-python",
   "name": "python",
   "nbconvert_exporter": "python",
   "pygments_lexer": "ipython3",
   "version": "3.12.3"
  }
 },
 "nbformat": 4,
 "nbformat_minor": 5
}
