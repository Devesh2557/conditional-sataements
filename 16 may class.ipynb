{
 "cells": [
  {
   "cell_type": "code",
   "execution_count": 2,
   "id": "a23b900e-f5f8-4957-8b35-fcde21439fa3",
   "metadata": {},
   "outputs": [
    {
     "data": {
      "text/plain": [
       "8000"
      ]
     },
     "execution_count": 2,
     "metadata": {},
     "output_type": "execute_result"
    }
   ],
   "source": [
    "class student:\n",
    "    def __init__(self,fee):\n",
    "        self.fee=fee\n",
    "\n",
    "    @property\n",
    "    def convert(self):\n",
    "        return self.fee*80\n",
    "\n",
    "s1=student(100)\n",
    "s1.convert"
   ]
  },
  {
   "cell_type": "code",
   "execution_count": 11,
   "id": "bd715561-f140-4adc-9507-434a9a9a22f1",
   "metadata": {},
   "outputs": [
    {
     "data": {
      "text/plain": [
       "80"
      ]
     },
     "execution_count": 11,
     "metadata": {},
     "output_type": "execute_result"
    }
   ],
   "source": [
    "# static method\n",
    "class student:\n",
    "    def __init__(self,fee):\n",
    "        self.fee=fee\n",
    "\n",
    "    @staticmethod   \n",
    "    def convert():\n",
    "        return 80\n",
    "\n",
    "\n",
    "s1=student(100)\n",
    "student.convert()"
   ]
  },
  {
   "cell_type": "code",
   "execution_count": 18,
   "id": "04837517-7697-4bdf-928e-4da9879fe389",
   "metadata": {},
   "outputs": [
    {
     "data": {
      "text/plain": [
       "30"
      ]
     },
     "execution_count": 18,
     "metadata": {},
     "output_type": "execute_result"
    }
   ],
   "source": [
    "# static method\n",
    "class student:\n",
    "    def __init__(self,fee):\n",
    "        self.fee=fee\n",
    "\n",
    "    @staticmethod   \n",
    "    def convert(x,y):\n",
    "        return x+y\n",
    "\n",
    "s1=student(1)\n",
    "student.convert(10,20)\n"
   ]
  },
  {
   "cell_type": "code",
   "execution_count": 25,
   "id": "0e9b17a0-501d-4be7-8b29-0ee875efa68a",
   "metadata": {},
   "outputs": [
    {
     "data": {
      "text/plain": [
       "dollar class has values 25"
      ]
     },
     "execution_count": 25,
     "metadata": {},
     "output_type": "execute_result"
    }
   ],
   "source": [
    "class dollar:\n",
    "    def __init__(self,amount):\n",
    "        self.amount=amount\n",
    "\n",
    "    def __repr__(self):\n",
    "        return f\"dollar class has values {self.amount}\"\n",
    "\n",
    "    \n",
    "    @staticmethod\n",
    "    def convert(x,y):\n",
    "        return dollar(x+y)\n",
    "        \n",
    "\n",
    "d1=dollar(100)\n",
    "d1.convert(10,15)"
   ]
  },
  {
   "cell_type": "code",
   "execution_count": 36,
   "id": "5e36acdd-e29a-46a3-acf2-9c789cc49217",
   "metadata": {},
   "outputs": [
    {
     "data": {
      "text/plain": [
       "dollar class has values 25"
      ]
     },
     "execution_count": 36,
     "metadata": {},
     "output_type": "execute_result"
    }
   ],
   "source": [
    "class dollar:\n",
    "    def __init__(self,amount):\n",
    "        self.amount=amount\n",
    "\n",
    "    def __repr__(self):\n",
    "        return f\"dollar class has values {self.amount}\"\n",
    "\n",
    "    \n",
    "    @classmethod\n",
    "    def convert(cls,x,y):\n",
    "        return cls(x+y)\n",
    "        \n",
    "\n",
    "class euro(dollar):\n",
    "    def __init__(self,amount):\n",
    "        super().__init__(amount)\n",
    "\n",
    "    def __repr__(self):\n",
    "        return f\"euro class has {self.amount}\"\n",
    "\n",
    "e1=euro(90)\n",
    "e1.convert(60,50)\n",
    "\n",
    "d1=dollar(909)\n",
    "d1.convert(10,15)"
   ]
  },
  {
   "cell_type": "code",
   "execution_count": null,
   "id": "01be775b-efa4-4b54-9652-b302d016c22e",
   "metadata": {},
   "outputs": [],
   "source": [
    "# function\n",
    "# lamda\n",
    "# list + tuple\n",
    "# dictionary\n",
    "# class object\n",
    "# polymorphism\n",
    "# __init__ \n",
    "# self\n",
    "# mro\n",
    "# __new__ ()  =>  make instance class "
   ]
  }
 ],
 "metadata": {
  "kernelspec": {
   "display_name": "Python 3 (ipykernel)",
   "language": "python",
   "name": "python3"
  },
  "language_info": {
   "codemirror_mode": {
    "name": "ipython",
    "version": 3
   },
   "file_extension": ".py",
   "mimetype": "text/x-python",
   "name": "python",
   "nbconvert_exporter": "python",
   "pygments_lexer": "ipython3",
   "version": "3.12.3"
  }
 },
 "nbformat": 4,
 "nbformat_minor": 5
}
