{
 "cells": [
  {
   "cell_type": "code",
   "execution_count": 4,
   "id": "63be7946-ee53-4353-afeb-c081e6e50975",
   "metadata": {},
   "outputs": [
    {
     "name": "stdin",
     "output_type": "stream",
     "text": [
      "enter the word  devesh\n"
     ]
    },
    {
     "ename": "TypeError",
     "evalue": "'list' object is not callable",
     "output_type": "error",
     "traceback": [
      "\u001b[1;31m---------------------------------------------------------------------------\u001b[0m",
      "\u001b[1;31mTypeError\u001b[0m                                 Traceback (most recent call last)",
      "Cell \u001b[1;32mIn[4], line 2\u001b[0m\n\u001b[0;32m      1\u001b[0m word \u001b[38;5;241m=\u001b[39m\u001b[38;5;28minput\u001b[39m(\u001b[38;5;124m\"\u001b[39m\u001b[38;5;124menter the word \u001b[39m\u001b[38;5;124m\"\u001b[39m)\n\u001b[1;32m----> 2\u001b[0m \u001b[38;5;28mlist\u001b[39m \u001b[38;5;241m=\u001b[39m \u001b[38;5;28;43mlist\u001b[39;49m\u001b[43m(\u001b[49m\u001b[43mword\u001b[49m\u001b[43m)\u001b[49m\n\u001b[0;32m      3\u001b[0m no_of_alphabets \u001b[38;5;241m=\u001b[39m \u001b[38;5;28mlen\u001b[39m(\u001b[38;5;28mlist\u001b[39m)\n\u001b[0;32m      4\u001b[0m \u001b[38;5;28;01mfor\u001b[39;00m i \u001b[38;5;129;01min\u001b[39;00m \u001b[38;5;28mrange\u001b[39m(no_of_alphabets):\n",
      "\u001b[1;31mTypeError\u001b[0m: 'list' object is not callable"
     ]
    }
   ],
   "source": [
    "word =input(\"enter the word \")\n",
    "list = list(word)\n",
    "no_of_alphabets = len(list)\n",
    "for i in range(no_of_alphabets):\n",
    "  number = list.count()\n",
    "  print (number)"
   ]
  },
  {
   "cell_type": "code",
   "execution_count": 5,
   "id": "3ae8c263-e1df-4324-bb99-8ab9c8940d43",
   "metadata": {},
   "outputs": [
    {
     "name": "stdout",
     "output_type": "stream",
     "text": [
      "The alphabet 'r' appears 2 times in the word 'rajendra'.\n",
      "{'r': 7, 'a': 8, 'j': 3, 'e': 4, 'n': 5, 'd': 6}\n"
     ]
    }
   ],
   "source": [
    "word = \"rajendra\"\n",
    "alphabet = \"r\"\n",
    "count = word.count(alphabet)\n",
    "if count > 0:\n",
    "    print(f\"The alphabet '{alphabet}' appears {count} times in the word '{word}'.\")\n",
    "else:\n",
    "    print(f\"The alphabet '{alphabet}' does not appear in the word '{word}'.\")\n",
    "mydict={'r':1,'a':2,'j':3,'e':4,'n':5,'d':6,'r':7,'a':8}\n",
    "newdict=dict(mydict)\n",
    "print(newdict)"
   ]
  },
  {
   "cell_type": "code",
   "execution_count": 6,
   "id": "cab58855-a4a8-48c2-8d1c-f5739af0732d",
   "metadata": {},
   "outputs": [
    {
     "name": "stdin",
     "output_type": "stream",
     "text": [
      "enter a name lakshit\n"
     ]
    },
    {
     "data": {
      "text/plain": [
       "{'l': 1, 'a': 1, 'k': 1, 's': 1, 'h': 1, 'i': 1, 't': 1}"
      ]
     },
     "execution_count": 6,
     "metadata": {},
     "output_type": "execute_result"
    }
   ],
   "source": [
    "a=input(\"enter a name\")\n",
    "new={}\n",
    "for i in a :\n",
    "    if i in new:\n",
    "        new[i]+=1\n",
    "    else:\n",
    "        new[i]=1\n",
    "\n",
    "new"
   ]
  },
  {
   "cell_type": "code",
   "execution_count": 20,
   "id": "5ba480d3-ccdd-4a60-8ffb-4eb5827a5183",
   "metadata": {},
   "outputs": [],
   "source": [
    "def new():\n",
    "    a=10\n",
    "    return \"a\"\n",
    "    return \"b\"\n",
    "    "
   ]
  },
  {
   "cell_type": "code",
   "execution_count": 26,
   "id": "5ad6cb9e-47b3-4514-9853-2ffc935b65c8",
   "metadata": {},
   "outputs": [
    {
     "data": {
      "text/plain": [
       "'a'"
      ]
     },
     "execution_count": 26,
     "metadata": {},
     "output_type": "execute_result"
    }
   ],
   "source": [
    "new"
   ]
  },
  {
   "cell_type": "code",
   "execution_count": 27,
   "id": "e3fbd8da-831c-4120-ac60-7f107c56a415",
   "metadata": {},
   "outputs": [
    {
     "data": {
      "text/plain": [
       "10"
      ]
     },
     "execution_count": 27,
     "metadata": {},
     "output_type": "execute_result"
    }
   ],
   "source": [
    "a"
   ]
  },
  {
   "cell_type": "code",
   "execution_count": 33,
   "id": "528b8dcf-d102-4949-ae4f-523f954a817e",
   "metadata": {},
   "outputs": [],
   "source": [
    "a=\"regexsoftware\""
   ]
  },
  {
   "cell_type": "code",
   "execution_count": 34,
   "id": "e4a18261-4077-443f-9a0b-59394f6bc11b",
   "metadata": {},
   "outputs": [
    {
     "data": {
      "text/plain": [
       "1"
      ]
     },
     "execution_count": 34,
     "metadata": {},
     "output_type": "execute_result"
    }
   ],
   "source": [
    "a.count(\"r\",5)"
   ]
  },
  {
   "cell_type": "code",
   "execution_count": 35,
   "id": "ab81c8cd-aa91-418f-beff-4f6b875cbdc1",
   "metadata": {},
   "outputs": [
    {
     "data": {
      "text/plain": [
       "5"
      ]
     },
     "execution_count": 35,
     "metadata": {},
     "output_type": "execute_result"
    }
   ],
   "source": [
    "a.index(\"s\")"
   ]
  },
  {
   "cell_type": "code",
   "execution_count": 37,
   "id": "67541b13-b1ed-46dd-94b0-f80c3d45126b",
   "metadata": {},
   "outputs": [
    {
     "data": {
      "text/plain": [
       "-1"
      ]
     },
     "execution_count": 37,
     "metadata": {},
     "output_type": "execute_result"
    }
   ],
   "source": [
    "a.find(\"q\")"
   ]
  },
  {
   "cell_type": "code",
   "execution_count": 39,
   "id": "1581f43b-e66e-476e-919a-ac0152cfc0f9",
   "metadata": {},
   "outputs": [
    {
     "ename": "ValueError",
     "evalue": "substring not found",
     "output_type": "error",
     "traceback": [
      "\u001b[1;31m---------------------------------------------------------------------------\u001b[0m",
      "\u001b[1;31mValueError\u001b[0m                                Traceback (most recent call last)",
      "Cell \u001b[1;32mIn[39], line 1\u001b[0m\n\u001b[1;32m----> 1\u001b[0m \u001b[43ma\u001b[49m\u001b[38;5;241;43m.\u001b[39;49m\u001b[43mindex\u001b[49m\u001b[43m(\u001b[49m\u001b[38;5;124;43m\"\u001b[39;49m\u001b[38;5;124;43mq\u001b[39;49m\u001b[38;5;124;43m\"\u001b[39;49m\u001b[43m)\u001b[49m\n",
      "\u001b[1;31mValueError\u001b[0m: substring not found"
     ]
    }
   ],
   "source": [
    "a.index(\"q\")"
   ]
  },
  {
   "cell_type": "code",
   "execution_count": 42,
   "id": "a5908152-1a32-4f2b-a684-6eacda1b88d8",
   "metadata": {},
   "outputs": [
    {
     "data": {
      "text/plain": [
       "True"
      ]
     },
     "execution_count": 42,
     "metadata": {},
     "output_type": "execute_result"
    }
   ],
   "source": [
    "a.endswith(\"e\")"
   ]
  },
  {
   "cell_type": "code",
   "execution_count": 45,
   "id": "ee3d476f-5a6e-437e-a7db-1c927245ea7e",
   "metadata": {},
   "outputs": [
    {
     "data": {
      "text/plain": [
       "False"
      ]
     },
     "execution_count": 45,
     "metadata": {},
     "output_type": "execute_result"
    }
   ],
   "source": [
    "a.startswith(\"f\")"
   ]
  },
  {
   "cell_type": "code",
   "execution_count": null,
   "id": "8d4b12eb-1b79-4340-9dbe-33e9aefee838",
   "metadata": {},
   "outputs": [],
   "source": []
  }
 ],
 "metadata": {
  "kernelspec": {
   "display_name": "Python 3 (ipykernel)",
   "language": "python",
   "name": "python3"
  },
  "language_info": {
   "codemirror_mode": {
    "name": "ipython",
    "version": 3
   },
   "file_extension": ".py",
   "mimetype": "text/x-python",
   "name": "python",
   "nbconvert_exporter": "python",
   "pygments_lexer": "ipython3",
   "version": "3.12.3"
  }
 },
 "nbformat": 4,
 "nbformat_minor": 5
}
