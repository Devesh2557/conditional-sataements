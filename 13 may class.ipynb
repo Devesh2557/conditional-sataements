{
 "cells": [
  {
   "cell_type": "code",
   "execution_count": 12,
   "id": "1f94aa14-53ee-4797-814a-94d3064d1879",
   "metadata": {},
   "outputs": [],
   "source": [
    "class House:\n",
    "    color=\"white\"\n",
    "    room=5"
   ]
  },
  {
   "cell_type": "code",
   "execution_count": 13,
   "id": "dd444c89-e8b8-45a3-a614-9e66b0cbac1b",
   "metadata": {},
   "outputs": [
    {
     "data": {
      "text/plain": [
       "__main__.House"
      ]
     },
     "execution_count": 13,
     "metadata": {},
     "output_type": "execute_result"
    }
   ],
   "source": [
    "# object\n",
    "h1=House()\n",
    "type(h1)"
   ]
  },
  {
   "cell_type": "code",
   "execution_count": 14,
   "id": "4e5e3c9e-48ec-495e-a5c6-b49ae3f30244",
   "metadata": {},
   "outputs": [
    {
     "name": "stdout",
     "output_type": "stream",
     "text": [
      "<__main__.House object at 0x000001BAC6C4E6C0>\n"
     ]
    }
   ],
   "source": [
    "h1=House()\n",
    "print(h1)"
   ]
  },
  {
   "cell_type": "code",
   "execution_count": 15,
   "id": "a0d68481-2a40-4438-b8ed-acaa7e716108",
   "metadata": {},
   "outputs": [
    {
     "name": "stdout",
     "output_type": "stream",
     "text": [
      "white 5\n"
     ]
    }
   ],
   "source": [
    "print(h1.color,h1.room)"
   ]
  },
  {
   "cell_type": "code",
   "execution_count": 17,
   "id": "b6e2d871-d051-4b75-bb64-05d3e58a29ae",
   "metadata": {},
   "outputs": [
    {
     "name": "stdout",
     "output_type": "stream",
     "text": [
      "5\n"
     ]
    }
   ],
   "source": [
    "h2=House()\n",
    "print(h2.room)"
   ]
  },
  {
   "cell_type": "code",
   "execution_count": 19,
   "id": "eaf2d81b-7425-4fc0-90bd-d8f51082f5a0",
   "metadata": {},
   "outputs": [
    {
     "name": "stdout",
     "output_type": "stream",
     "text": [
      "<__main__.House object at 0x000001BAC57D6D80>\n"
     ]
    }
   ],
   "source": [
    "print(h2)"
   ]
  },
  {
   "cell_type": "code",
   "execution_count": 24,
   "id": "626700d1-0700-422e-9ee4-141ee2a5ae43",
   "metadata": {},
   "outputs": [],
   "source": [
    "class House:\n",
    "\n",
    "    # class variable: class and object both directly access\n",
    "    color=\"white\"\n",
    "    room=5\n",
    "   \n",
    "    def info(self):\n",
    "        print(\"House has characterstic:\",self.color,self.room)"
   ]
  },
  {
   "cell_type": "code",
   "execution_count": 29,
   "id": "2fdb8407-e11e-4383-aed0-40dbd9ad80bb",
   "metadata": {},
   "outputs": [
    {
     "name": "stdout",
     "output_type": "stream",
     "text": [
      "House has characterstic: yellow 5\n"
     ]
    }
   ],
   "source": [
    "h1=House()\n",
    "h1.color=\"yellow\"\n",
    "h1.info()"
   ]
  },
  {
   "cell_type": "code",
   "execution_count": 30,
   "id": "fcc01cf4-43c1-4b58-878f-ee8a6469d151",
   "metadata": {},
   "outputs": [
    {
     "data": {
      "text/plain": [
       "'white'"
      ]
     },
     "execution_count": 30,
     "metadata": {},
     "output_type": "execute_result"
    }
   ],
   "source": [
    "House.color"
   ]
  },
  {
   "cell_type": "code",
   "execution_count": 31,
   "id": "caad2d70-1c30-47e8-8a30-853cf9ce1371",
   "metadata": {},
   "outputs": [
    {
     "data": {
      "text/plain": [
       "'yellow'"
      ]
     },
     "execution_count": 31,
     "metadata": {},
     "output_type": "execute_result"
    }
   ],
   "source": [
    "h1.color"
   ]
  },
  {
   "cell_type": "code",
   "execution_count": 69,
   "id": "e15d506d-7163-4f5f-ba41-8e41024b3aae",
   "metadata": {},
   "outputs": [],
   "source": [
    "class House:\n",
    "    def __init__(self,x):\n",
    "        self.color=x\n",
    "        print(\"hey\",x) #self is used to hold the memory address #--> current refer object"
   ]
  },
  {
   "cell_type": "code",
   "execution_count": 70,
   "id": "40bae541-e08b-414c-be1c-1d7d59228958",
   "metadata": {},
   "outputs": [
    {
     "name": "stdout",
     "output_type": "stream",
     "text": [
      "hey pink\n",
      "<__main__.House object at 0x000001BAC6E78DD0>\n"
     ]
    }
   ],
   "source": [
    "# House() is basically a constructor of a class\n",
    "# Constructer is the function\n",
    "# Function is __init__()\n",
    "# Self is the current object refernce by default\n",
    "h1=House(\"pink\")# h1 is store the address\n",
    "print(h1)"
   ]
  },
  {
   "cell_type": "code",
   "execution_count": 71,
   "id": "78681745-4267-46d5-a3d3-a0f4f1734a35",
   "metadata": {},
   "outputs": [
    {
     "name": "stdout",
     "output_type": "stream",
     "text": [
      "hey green\n",
      "<__main__.House object at 0x000001BAC6C4CEC0>\n"
     ]
    }
   ],
   "source": [
    "h2=House(\"green\")\n",
    "print(h2)"
   ]
  },
  {
   "cell_type": "code",
   "execution_count": 72,
   "id": "82be13e3-7e94-4d21-983e-6d71ab0a1204",
   "metadata": {},
   "outputs": [],
   "source": [
    "class House:\n",
    "    def __init__(self,x):\n",
    "        self.color=x"
   ]
  },
  {
   "cell_type": "code",
   "execution_count": 76,
   "id": "8b8138a5-7b8d-4ba5-bcc8-1e43dbeb2f15",
   "metadata": {},
   "outputs": [
    {
     "data": {
      "text/plain": [
       "'pink'"
      ]
     },
     "execution_count": 76,
     "metadata": {},
     "output_type": "execute_result"
    }
   ],
   "source": [
    "h1=House(\"pink\")\n",
    "h1.color"
   ]
  },
  {
   "cell_type": "code",
   "execution_count": 77,
   "id": "e9c7e457-d69a-4d0f-bd33-5d1060688037",
   "metadata": {},
   "outputs": [
    {
     "data": {
      "text/plain": [
       "'green'"
      ]
     },
     "execution_count": 77,
     "metadata": {},
     "output_type": "execute_result"
    }
   ],
   "source": [
    "h2=House(\"green\")\n",
    "h2.color"
   ]
  },
  {
   "cell_type": "code",
   "execution_count": 85,
   "id": "d2143272-47ef-48ac-bd48-5c76e4bca160",
   "metadata": {},
   "outputs": [
    {
     "data": {
      "text/plain": [
       "4"
      ]
     },
     "execution_count": 85,
     "metadata": {},
     "output_type": "execute_result"
    }
   ],
   "source": [
    "class House:\n",
    "    def __init__(self,color,room):\n",
    "        #instance variable\n",
    "        self.color=color\n",
    "        self.room=room\n",
    "\n",
    "#object\n",
    "h2=House(\"green\",4)\n",
    "h2.room"
   ]
  },
  {
   "cell_type": "code",
   "execution_count": 86,
   "id": "3a9ec1af-f342-41fe-a257-67ca09f6ee50",
   "metadata": {},
   "outputs": [
    {
     "name": "stdout",
     "output_type": "stream",
     "text": [
      "black\n"
     ]
    }
   ],
   "source": [
    "h12=House(\"black\",10)\n",
    "print(h12.color)"
   ]
  },
  {
   "cell_type": "code",
   "execution_count": 87,
   "id": "5f40039d-ad81-4092-9734-6af8efa0a345",
   "metadata": {},
   "outputs": [
    {
     "name": "stdout",
     "output_type": "stream",
     "text": [
      "10\n"
     ]
    }
   ],
   "source": [
    "h12=House(\"black\",10)\n",
    "print(h12.room)"
   ]
  },
  {
   "cell_type": "code",
   "execution_count": 92,
   "id": "19346cc5-2070-4077-b00e-37d60486e967",
   "metadata": {},
   "outputs": [],
   "source": [
    "#employee id \n",
    "#name \n",
    "#email\n",
    "#salary\n",
    "\n",
    "#company=class\n"
   ]
  },
  {
   "cell_type": "code",
   "execution_count": 105,
   "id": "d8451193-79d0-4520-af08-caf68a70ee23",
   "metadata": {},
   "outputs": [],
   "source": [
    "class employee:\n",
    "    company=\"regex software\"\n",
    "    def __init__(self,employee_id,name,email_id,salary):\n",
    "        self.employee_id=employee_id\n",
    "        self.name=name\n",
    "        self.email_id=email_id\n",
    "        self.salary=salary"
   ]
  },
  {
   "cell_type": "code",
   "execution_count": 106,
   "id": "2b57289f-a7a9-42e4-ac91-1c4c0e951240",
   "metadata": {},
   "outputs": [
    {
     "name": "stdout",
     "output_type": "stream",
     "text": [
      "30000\n"
     ]
    }
   ],
   "source": [
    "h1=employee(1,\"rahul\",\"rahul@gmail.com\",30000)\n",
    "print(h1.salary,h1.email_id,)"
   ]
  },
  {
   "cell_type": "code",
   "execution_count": null,
   "id": "df69f69f-f92f-4154-a40b-816382a30fe0",
   "metadata": {},
   "outputs": [],
   "source": [
    "# inharitance, polymorphism, abstraction, encapsulation"
   ]
  },
  {
   "cell_type": "code",
   "execution_count": null,
   "id": "5ee00298-616c-4578-abc4-800365bcc0f2",
   "metadata": {},
   "outputs": [],
   "source": []
  }
 ],
 "metadata": {
  "kernelspec": {
   "display_name": "Python 3 (ipykernel)",
   "language": "python",
   "name": "python3"
  },
  "language_info": {
   "codemirror_mode": {
    "name": "ipython",
    "version": 3
   },
   "file_extension": ".py",
   "mimetype": "text/x-python",
   "name": "python",
   "nbconvert_exporter": "python",
   "pygments_lexer": "ipython3",
   "version": "3.12.3"
  }
 },
 "nbformat": 4,
 "nbformat_minor": 5
}
