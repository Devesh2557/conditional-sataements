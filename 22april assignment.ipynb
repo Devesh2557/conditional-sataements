{
 "cells": [
  {
   "cell_type": "code",
   "execution_count": 1,
   "id": "2c57bc79-de66-4868-9f78-fc05059e96eb",
   "metadata": {},
   "outputs": [
    {
     "name": "stdout",
     "output_type": "stream",
     "text": [
      "210\n"
     ]
    }
   ],
   "source": [
    "sum = 0\n",
    "for i in range(1,21):\n",
    "    sum +=i\n",
    "print(sum)"
   ]
  },
  {
   "cell_type": "code",
   "execution_count": 2,
   "id": "de3210d0-9ef6-4d31-b66d-d6995743bfd5",
   "metadata": {},
   "outputs": [
    {
     "name": "stdout",
     "output_type": "stream",
     "text": [
      "19790\n"
     ]
    }
   ],
   "source": [
    "sum=0\n",
    "for i in range (999,979, -1):\n",
    "    sum += i\n",
    "print(sum)"
   ]
  },
  {
   "cell_type": "code",
   "execution_count": 3,
   "id": "9b4894a4-eed5-428b-a76e-4ebbc3f6c37c",
   "metadata": {},
   "outputs": [
    {
     "name": "stdout",
     "output_type": "stream",
     "text": [
      "2432902008176640000 10.5\n"
     ]
    }
   ],
   "source": [
    "prod=1\n",
    "avg=0\n",
    "sum = 0\n",
    "\n",
    "for i in range(1,21):\n",
    "    prod *=i\n",
    "    sum += i\n",
    "    avg = sum/20\n",
    "print(prod, avg)"
   ]
  },
  {
   "cell_type": "code",
   "execution_count": 7,
   "id": "48e751cc-e0bf-4f7c-bc85-a82f106ba30e",
   "metadata": {},
   "outputs": [
    {
     "name": "stdin",
     "output_type": "stream",
     "text": [
      "Enter number to print table =  2\n"
     ]
    },
    {
     "name": "stdout",
     "output_type": "stream",
     "text": [
      "2\n",
      "4\n",
      "6\n",
      "8\n",
      "10\n",
      "12\n",
      "14\n",
      "16\n",
      "18\n",
      "20\n"
     ]
    }
   ],
   "source": [
    "x=int(input(\"Enter number to print table = \"))\n",
    "\n",
    "for i in range(1,11):\n",
    "    table = x*i\n",
    "    print(table)"
   ]
  },
  {
   "cell_type": "code",
   "execution_count": 8,
   "id": "d41a33dc-814c-47a2-80e1-5ba037fcc960",
   "metadata": {},
   "outputs": [
    {
     "name": "stdin",
     "output_type": "stream",
     "text": [
      "Enter the number =  5\n"
     ]
    },
    {
     "name": "stdout",
     "output_type": "stream",
     "text": [
      "5\n",
      "30\n",
      "155\n",
      "780\n",
      "3905\n",
      "19530\n"
     ]
    }
   ],
   "source": [
    "x=int(input(\"Enter the number = \"))\n",
    "sum=0\n",
    "prod=1\n",
    "for i in range(1, 7):\n",
    "    prod=x**i\n",
    "    sum=prod+sum\n",
    "    print(sum)"
   ]
  },
  {
   "cell_type": "code",
   "execution_count": 10,
   "id": "3e0ad02a-0e19-40fa-ac84-0ed762bf4475",
   "metadata": {},
   "outputs": [
    {
     "name": "stdin",
     "output_type": "stream",
     "text": [
      "Enter a word:  devesh\n"
     ]
    },
    {
     "name": "stdout",
     "output_type": "stream",
     "text": [
      "Total consonants: 4\n"
     ]
    }
   ],
   "source": [
    "x = input(\"Enter a word: \")\n",
    "vowels = {'a', 'e', 'i', 'o', 'u'}\n",
    "count = 0\n",
    "\n",
    "for i in x:\n",
    "    if i not in vowels:\n",
    "        count += 1\n",
    "\n",
    "print(\"Total consonants:\", count)"
   ]
  },
  {
   "cell_type": "code",
   "execution_count": 11,
   "id": "409fe4c8-d075-4e87-9eb1-125a888b5813",
   "metadata": {},
   "outputs": [
    {
     "name": "stdin",
     "output_type": "stream",
     "text": [
      "Enter the end number for range =  5\n"
     ]
    },
    {
     "name": "stdout",
     "output_type": "stream",
     "text": [
      "9 15 3.0\n"
     ]
    }
   ],
   "source": [
    "num = int(input(\"Enter the end number for range = \"))\n",
    "\n",
    "sum =0\n",
    "prod =1\n",
    "count=0\n",
    "for i in range (1,num+1):\n",
    "    if(i%2!=0):\n",
    "        sum +=i\n",
    "        count=count+1\n",
    "        prod= prod *i\n",
    "        avg = sum/count\n",
    "        \n",
    "print(sum, prod, avg)"
   ]
  },
  {
   "cell_type": "code",
   "execution_count": null,
   "id": "97e020cd-6f30-4692-9978-657d0dcfc385",
   "metadata": {},
   "outputs": [],
   "source": []
  }
 ],
 "metadata": {
  "kernelspec": {
   "display_name": "Python 3 (ipykernel)",
   "language": "python",
   "name": "python3"
  },
  "language_info": {
   "codemirror_mode": {
    "name": "ipython",
    "version": 3
   },
   "file_extension": ".py",
   "mimetype": "text/x-python",
   "name": "python",
   "nbconvert_exporter": "python",
   "pygments_lexer": "ipython3",
   "version": "3.12.3"
  }
 },
 "nbformat": 4,
 "nbformat_minor": 5
}
