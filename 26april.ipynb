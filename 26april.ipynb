{
 "cells": [
  {
   "cell_type": "code",
   "execution_count": 4,
   "id": "603d90e3-5fc2-4ace-bf51-aaf170477d7b",
   "metadata": {},
   "outputs": [
    {
     "name": "stdout",
     "output_type": "stream",
     "text": [
      "['hey', 'tushar', 'hey', 'hello', 'hey', 'user', 'user', 'hey'] <class 'list'>\n"
     ]
    }
   ],
   "source": [
    "data=\"hey tushar hey hello hey user user hey\"\n",
    "#[hey tushar hello user]\n",
    "x=data.split(\" \")\n",
    "print(x,type(x))"
   ]
  },
  {
   "cell_type": "code",
   "execution_count": 10,
   "id": "653c33b7-1b00-468d-98f3-0660db88bc6c",
   "metadata": {},
   "outputs": [],
   "source": [
    "data=\"hey tushar hey hello hey user user hey\"\n",
    "mylist=data.split()\n",
    "newlist=[]\n",
    "for i in mylist:\n",
    "    if i not in newlist:\n",
    "        newlist.append(i)"
   ]
  },
  {
   "cell_type": "code",
   "execution_count": 11,
   "id": "bebacc1f-042c-40b8-b584-3d901087d2b0",
   "metadata": {},
   "outputs": [
    {
     "data": {
      "text/plain": [
       "['hey', 'tushar', 'hello', 'user']"
      ]
     },
     "execution_count": 11,
     "metadata": {},
     "output_type": "execute_result"
    }
   ],
   "source": [
    "newlist"
   ]
  },
  {
   "cell_type": "code",
   "execution_count": 19,
   "id": "9f775531-ef1f-427e-a9cc-0487de28a83a",
   "metadata": {},
   "outputs": [
    {
     "data": {
      "text/plain": [
       "'\\ntupple> collection of multiple elements\\n> immutable\\n> index position\\n> if we want to put a int value in tuple it should be with comma\\n'"
      ]
     },
     "execution_count": 19,
     "metadata": {},
     "output_type": "execute_result"
    }
   ],
   "source": [
    "'''\n",
    "tupple> collection of multiple elements\n",
    "> immutable\n",
    "> index position\n",
    "> if we want to put a int value in tuple it should be with comma\n",
    "'''"
   ]
  },
  {
   "cell_type": "code",
   "execution_count": 20,
   "id": "d39696e8-901b-4911-b633-cd4e287fdb86",
   "metadata": {},
   "outputs": [
    {
     "name": "stdout",
     "output_type": "stream",
     "text": [
      "<class 'tuple'>\n"
     ]
    }
   ],
   "source": [
    "mytupple=(10,)\n",
    "print(type(mytupple))"
   ]
  },
  {
   "cell_type": "code",
   "execution_count": 25,
   "id": "e9f8a4a2-fdce-4b6b-a288-2c65978e3b62",
   "metadata": {},
   "outputs": [
    {
     "name": "stdout",
     "output_type": "stream",
     "text": [
      "<class 'tuple'>\n"
     ]
    }
   ],
   "source": [
    "mytupple=(10,20,\"hey\",10.0)\n",
    "print(type(mytupple))"
   ]
  },
  {
   "cell_type": "code",
   "execution_count": 26,
   "id": "3ae80e4e-d065-4ac2-92ff-5af6e7280636",
   "metadata": {},
   "outputs": [
    {
     "data": {
      "text/plain": [
       "(10, 20, 'hey')"
      ]
     },
     "execution_count": 26,
     "metadata": {},
     "output_type": "execute_result"
    }
   ],
   "source": [
    "mytupple[0:3]"
   ]
  },
  {
   "cell_type": "code",
   "execution_count": 34,
   "id": "f4a6b9e0-233a-4425-8ec4-a67121ffd993",
   "metadata": {},
   "outputs": [],
   "source": [
    "mytupple=mytupple+(60,70,80)"
   ]
  },
  {
   "cell_type": "code",
   "execution_count": 35,
   "id": "8719e990-d0e4-4df7-b963-9142b09b4fcd",
   "metadata": {},
   "outputs": [
    {
     "data": {
      "text/plain": [
       "(10, 20, 'hey', 10.0, 60, 70, 80, 60, 70, 80)"
      ]
     },
     "execution_count": 35,
     "metadata": {},
     "output_type": "execute_result"
    }
   ],
   "source": [
    "mytupple"
   ]
  },
  {
   "cell_type": "code",
   "execution_count": 32,
   "id": "e3420bfc-4d64-4fda-9acd-4d8d5dcff2c5",
   "metadata": {},
   "outputs": [
    {
     "data": {
      "text/plain": [
       "2199261593664"
      ]
     },
     "execution_count": 32,
     "metadata": {},
     "output_type": "execute_result"
    }
   ],
   "source": [
    "mytupple=(10,20,\"hey\",10.0)\n",
    "id(mytupple)"
   ]
  },
  {
   "cell_type": "code",
   "execution_count": 36,
   "id": "4ed54ace-4098-4795-87cb-b3ab0f242c3a",
   "metadata": {},
   "outputs": [
    {
     "data": {
      "text/plain": [
       "2199261542960"
      ]
     },
     "execution_count": 36,
     "metadata": {},
     "output_type": "execute_result"
    }
   ],
   "source": [
    "mytupple=mytupple+(60,70,80)\n",
    "id(mytupple)"
   ]
  },
  {
   "cell_type": "code",
   "execution_count": null,
   "id": "80e9ea36-3733-49ef-9683-5093cacadc6b",
   "metadata": {},
   "outputs": [],
   "source": [
    "x=int(input(\"Enter a number:-\"))\n",
    "count=0\n",
    "num=x\n",
    "while num!=0:\n",
    "    a=num%10\n",
    "    count+=a**3\n",
    "    num//10\n",
    "if(x==num):\n",
    "    print(\"armstrong number\")\n",
    "else:\n",
    "    print(a\"not armstrong\")"
   ]
  },
  {
   "cell_type": "code",
   "execution_count": null,
   "id": "99bbabe3-c863-4af3-9912-6b0cb23f00a9",
   "metadata": {},
   "outputs": [],
   "source": []
  },
  {
   "cell_type": "code",
   "execution_count": 5,
   "id": "dc49d953-4136-4d6e-85fe-178045ef7717",
   "metadata": {},
   "outputs": [
    {
     "name": "stdout",
     "output_type": "stream",
     "text": [
      "armstrong number\n"
     ]
    }
   ],
   "source": [
    "x=153\n",
    "\n",
    "originalnumber=x=0\n",
    "total=0\n",
    "while(x>10):\n",
    "    rem=x%10\n",
    "    total += rem**3\n",
    "    x=x//10\n",
    "    \n",
    "if(total==originalnumber):\n",
    "    print(\"armstrong number\")\n",
    "else:\n",
    "    print(\"not armstrongnumber\")"
   ]
  },
  {
   "cell_type": "code",
   "execution_count": null,
   "id": "22a338db-566a-4ab7-abe5-5d7769b147da",
   "metadata": {},
   "outputs": [],
   "source": [
    "# to find out whether a four digit number is a armstrong number or not\n",
    "#to find out all the unique word from the string no duplicacy\n",
    "#      \"hey hello user tuhsar tushar hello\"\n",
    "#    [hey,tushar]"
   ]
  }
 ],
 "metadata": {
  "kernelspec": {
   "display_name": "Python 3 (ipykernel)",
   "language": "python",
   "name": "python3"
  },
  "language_info": {
   "codemirror_mode": {
    "name": "ipython",
    "version": 3
   },
   "file_extension": ".py",
   "mimetype": "text/x-python",
   "name": "python",
   "nbconvert_exporter": "python",
   "pygments_lexer": "ipython3",
   "version": "3.12.3"
  }
 },
 "nbformat": 4,
 "nbformat_minor": 5
}
