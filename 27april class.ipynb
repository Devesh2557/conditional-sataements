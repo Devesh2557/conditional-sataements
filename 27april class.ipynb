{
 "cells": [
  {
   "cell_type": "code",
   "execution_count": 1,
   "id": "7a8fc499-89f6-4d79-b806-7cf9c107ad63",
   "metadata": {},
   "outputs": [],
   "source": [
    "#dicitionary\n",
    "# collection of element \n",
    "# comma\n",
    "# key:value(element)\n",
    "# key:value, key:value\n",
    "#don't have index position\n",
    "# mutable in nature\n",
    "#(mutable :- memory m changes kr skte h )"
   ]
  },
  {
   "cell_type": "code",
   "execution_count": 7,
   "id": "e37076fc-73c6-44b0-8832-38c72367a427",
   "metadata": {},
   "outputs": [
    {
     "name": "stdout",
     "output_type": "stream",
     "text": [
      "{1: 'tushar', 2: 'aman', 3: 'aditya', 'company': 'regex software'}\n"
     ]
    }
   ],
   "source": [
    "mydictionary={1:\"tushar\", 2:\"aman\", 3:\"aditya\", \"company\":\"regex software\"}\n",
    "print(mydictionary)"
   ]
  },
  {
   "cell_type": "code",
   "execution_count": 8,
   "id": "22f98242-04ea-422b-a060-82559c8a6d34",
   "metadata": {},
   "outputs": [
    {
     "data": {
      "text/plain": [
       "'tushar'"
      ]
     },
     "execution_count": 8,
     "metadata": {},
     "output_type": "execute_result"
    }
   ],
   "source": [
    "mydictionary[1]"
   ]
  },
  {
   "cell_type": "code",
   "execution_count": 19,
   "id": "43f21b46-c3f8-4a6f-9efc-6bcb9aeb060e",
   "metadata": {},
   "outputs": [
    {
     "data": {
      "text/plain": [
       "{1: 'yash', 2: 'aman', 3: 'aditya', 'company': 'regex software'}"
      ]
     },
     "execution_count": 19,
     "metadata": {},
     "output_type": "execute_result"
    }
   ],
   "source": [
    "mydictionary={1:\"tushar\", 2:\"aman\", 3:\"aditya\", \"company\":\"regex software\"}\n",
    "#insert a nre variable on 1st position\n",
    "mydictionary[1]=\"yash\"\n",
    "mydictionary"
   ]
  },
  {
   "cell_type": "code",
   "execution_count": 20,
   "id": "3f5af3fc-3879-428d-ae54-b6db2f7812f4",
   "metadata": {},
   "outputs": [
    {
     "data": {
      "text/plain": [
       "{1: 'tushar', 2: 'aman', 3: 'aditya', 'company': 'regex software', 4: 500}"
      ]
     },
     "execution_count": 20,
     "metadata": {},
     "output_type": "execute_result"
    }
   ],
   "source": [
    "mydictionary={1:\"tushar\", 2:\"aman\", 3:\"aditya\", \"company\":\"regex software\"}\n",
    "#insert bases on key value\n",
    "mydictionary[4]=500\n",
    "mydictionary"
   ]
  },
  {
   "cell_type": "code",
   "execution_count": 26,
   "id": "8cde1eac-0b81-44b9-82a9-87e6ae75fb05",
   "metadata": {},
   "outputs": [
    {
     "name": "stdout",
     "output_type": "stream",
     "text": [
      "aman\n"
     ]
    }
   ],
   "source": [
    "mydictionary={1:\"tushar\", 2:\"aman\", 3:\"aditya\", \"company\":\"regex software\"}\n",
    "\n",
    "x=mydictionary.pop(2)\n",
    "print(x)"
   ]
  },
  {
   "cell_type": "code",
   "execution_count": 27,
   "id": "9e8e939b-ab46-4273-ac5a-1b3a358884da",
   "metadata": {},
   "outputs": [
    {
     "name": "stdout",
     "output_type": "stream",
     "text": [
      "('company', 'regex software')\n"
     ]
    }
   ],
   "source": [
    "#key value pair delete and return\n",
    "x=mydictionary.popitem()\n",
    "print(x)"
   ]
  },
  {
   "cell_type": "code",
   "execution_count": 28,
   "id": "c4f57a63-7ede-47c3-86f5-b0cce3b5df5d",
   "metadata": {},
   "outputs": [
    {
     "data": {
      "text/plain": [
       "{1: 'tushar', 3: 'aditya'}"
      ]
     },
     "execution_count": 28,
     "metadata": {},
     "output_type": "execute_result"
    }
   ],
   "source": [
    "mydictionary"
   ]
  },
  {
   "cell_type": "code",
   "execution_count": 29,
   "id": "7925496c-c7ad-4579-95a0-602649f014bd",
   "metadata": {},
   "outputs": [
    {
     "data": {
      "text/plain": [
       "True"
      ]
     },
     "execution_count": 29,
     "metadata": {},
     "output_type": "execute_result"
    }
   ],
   "source": [
    "1 in mydictionary"
   ]
  },
  {
   "cell_type": "code",
   "execution_count": 30,
   "id": "eab57ff5-a12f-4ae5-9ce9-9a1b918a27bf",
   "metadata": {},
   "outputs": [
    {
     "data": {
      "text/plain": [
       "False"
      ]
     },
     "execution_count": 30,
     "metadata": {},
     "output_type": "execute_result"
    }
   ],
   "source": [
    "\"hello\" in mydictionary"
   ]
  },
  {
   "cell_type": "code",
   "execution_count": 31,
   "id": "24a4cd9a-feb8-45d4-935c-9746e8ab5b19",
   "metadata": {},
   "outputs": [
    {
     "data": {
      "text/plain": [
       "dict_values(['tushar', 'aditya'])"
      ]
     },
     "execution_count": 31,
     "metadata": {},
     "output_type": "execute_result"
    }
   ],
   "source": [
    "mydictionary.values()"
   ]
  },
  {
   "cell_type": "code",
   "execution_count": 32,
   "id": "21a25915-d342-4673-919d-c8721aa4cccc",
   "metadata": {},
   "outputs": [
    {
     "data": {
      "text/plain": [
       "dict_items([(1, 'tushar'), (3, 'aditya')])"
      ]
     },
     "execution_count": 32,
     "metadata": {},
     "output_type": "execute_result"
    }
   ],
   "source": [
    "mydictionary.items()"
   ]
  },
  {
   "cell_type": "code",
   "execution_count": 33,
   "id": "25241f09-e09d-4a3c-97dc-91eb8f538922",
   "metadata": {},
   "outputs": [
    {
     "name": "stdout",
     "output_type": "stream",
     "text": [
      "{1: 'tushar', 3: 'aditya', 100: 1}\n"
     ]
    }
   ],
   "source": [
    "x=100\n",
    "if(x not in mydictionary):\n",
    "    mydictionary[x]=1\n",
    "print(mydictionary)"
   ]
  },
  {
   "cell_type": "code",
   "execution_count": 34,
   "id": "7cc11e36-b2d8-4405-bd3c-4bc2b125e40b",
   "metadata": {},
   "outputs": [
    {
     "name": "stdout",
     "output_type": "stream",
     "text": [
      "{1: 'tushar', 3: 'aditya', 100: 1, 200: 1}\n"
     ]
    }
   ],
   "source": [
    "x=200\n",
    "if(x not in mydictionary):\n",
    "    mydictionary[x]=1\n",
    "print(mydictionary)"
   ]
  },
  {
   "cell_type": "code",
   "execution_count": 60,
   "id": "90e108aa-4afe-4f25-8d76-6d5a88b5d40f",
   "metadata": {},
   "outputs": [
    {
     "name": "stdout",
     "output_type": "stream",
     "text": [
      "{'totalchar': 23}\n"
     ]
    }
   ],
   "source": [
    "#\"hello tushar hello hey\"\n",
    "#totalcharacter\n",
    "dictionary={}\n",
    "a=\"hello tushar hello user\"\n",
    "for i in a:\n",
    "    if(\"totalchar\" not in dictionary):\n",
    "        dictionary[\"totalchar\"]=1\n",
    "    else:\n",
    "        dictionary[\"totalchar\"]=dictionary[\"totalchar\"]+1\n",
    "        \n",
    "print(dictionary)"
   ]
  },
  {
   "cell_type": "code",
   "execution_count": 68,
   "id": "567ae8bc-7edf-4956-8923-30a44b4dd244",
   "metadata": {},
   "outputs": [
    {
     "name": "stdout",
     "output_type": "stream",
     "text": [
      "{'h': 4, 'e': 3, 'l': 4, 'o': 2, ' ': 3, 't': 1, 'u': 1, 's': 1, 'a': 1, 'r': 1, 'y': 1}\n"
     ]
    }
   ],
   "source": [
    "dictionarry={}\n",
    "for i in \"hello tushar hello hey\":\n",
    "    key = dictionarry.keys()\n",
    "    if(i not in key):\n",
    "         dictionarry[i]=1\n",
    "    else:\n",
    "        dictionarry[i] = dictionarry[i]+1\n",
    "print(dictionarry)\n",
    "    "
   ]
  },
  {
   "cell_type": "code",
   "execution_count": 70,
   "id": "cd909546-20ca-4b60-922f-8ecc635e9866",
   "metadata": {},
   "outputs": [
    {
     "name": "stdout",
     "output_type": "stream",
     "text": [
      "{'h': 1, 'e': 1, 'l': 1, 'o': 1, ' ': 1, 'y': 1}\n"
     ]
    }
   ],
   "source": [
    "mydictionary={}\n",
    "for i in \"hello hey\":\n",
    "    if(i not in mydictionary):\n",
    "        mydictionary[i]=1\n",
    "print(mydictionary)"
   ]
  },
  {
   "cell_type": "code",
   "execution_count": 71,
   "id": "05c46b95-8d95-4bca-b6e0-03ce86820968",
   "metadata": {},
   "outputs": [
    {
     "name": "stdout",
     "output_type": "stream",
     "text": [
      "{'e': 1, 'o': 1, 'a': 2, 'i': 3}\n"
     ]
    }
   ],
   "source": [
    "mydictionary={}\n",
    "for i in \"hello laakshit ii\":\n",
    "    if(i==\"a\" or i==\"e\" or i==\"i\" or i==\"o\" or i==\"u\"):\n",
    "        if(i not in mydictionary):\n",
    "            mydictionary[i]=1\n",
    "        else:\n",
    "            mydictionary[i] = mydictionary[i]+1\n",
    "print(mydictionary)"
   ]
  },
  {
   "cell_type": "code",
   "execution_count": null,
   "id": "4f903a92-5951-4fdb-88f5-1a4b22abd86a",
   "metadata": {},
   "outputs": [],
   "source": []
  }
 ],
 "metadata": {
  "kernelspec": {
   "display_name": "Python 3 (ipykernel)",
   "language": "python",
   "name": "python3"
  },
  "language_info": {
   "codemirror_mode": {
    "name": "ipython",
    "version": 3
   },
   "file_extension": ".py",
   "mimetype": "text/x-python",
   "name": "python",
   "nbconvert_exporter": "python",
   "pygments_lexer": "ipython3",
   "version": "3.12.3"
  }
 },
 "nbformat": 4,
 "nbformat_minor": 5
}
