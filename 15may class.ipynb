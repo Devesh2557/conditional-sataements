{
 "cells": [
  {
   "cell_type": "code",
   "execution_count": 4,
   "id": "93d25699-5367-477f-8e34-0a584bda7dc2",
   "metadata": {},
   "outputs": [],
   "source": [
    "class father:\n",
    "    def info(self):\n",
    "        print(\"calling the father class\")"
   ]
  },
  {
   "cell_type": "code",
   "execution_count": 5,
   "id": "97b35adb-f4ff-4047-b487-ad93d187aec1",
   "metadata": {},
   "outputs": [
    {
     "name": "stdout",
     "output_type": "stream",
     "text": [
      "calling the father class\n"
     ]
    }
   ],
   "source": [
    "class son(father):\n",
    "    def sinfo(self):\n",
    "        print(\"calling the son class\")\n",
    "\n",
    "s1=son()\n",
    "s1.info()"
   ]
  },
  {
   "cell_type": "code",
   "execution_count": 52,
   "id": "d19f0466-6254-4369-b75e-8a190882f344",
   "metadata": {},
   "outputs": [],
   "source": [
    "# Operator overloading\n",
    "\n",
    "class Example:\n",
    "    def __init__(self,x,y):\n",
    "        self.num1=x\n",
    "        self.num2=y\n",
    "\n",
    "    #__func__  => dunder methods\n",
    "    def __repr__(self):\n",
    "        return f\"Example class object has : {self.num1} & {self.num2}\"\n",
    "\n",
    "\n",
    "    def __add__(self,obj2):\n",
    "        #print(\"hello\",obj2)\n",
    "        #print(self.num1)\n",
    "        #print(self.num1+obj2.num1)\n",
    "        x1=self.num1+obj2.num1\n",
    "        y1=self.num2+obj2.num2\n",
    "        \n",
    "        return Example(e1,e2)\n",
    "        #print(x1,y1)"
   ]
  },
  {
   "cell_type": "code",
   "execution_count": 53,
   "id": "38ffbc77-df77-4650-b9bf-b7d90410b0f4",
   "metadata": {},
   "outputs": [
    {
     "data": {
      "text/plain": [
       "Example class object has : Example class object has : 10 & 20 & Example class object has : 15 & 25"
      ]
     },
     "execution_count": 53,
     "metadata": {},
     "output_type": "execute_result"
    }
   ],
   "source": [
    "\n",
    "e1=Example(10,20)\n",
    "e2=Example(15,25)\n",
    "e1+e2\n",
    "#__add__            operator overloading"
   ]
  },
  {
   "cell_type": "code",
   "execution_count": 56,
   "id": "90475f03-86fe-4ab7-8bd3-7e3c93630c36",
   "metadata": {},
   "outputs": [],
   "source": [
    "# polymorphism based qusetion using gt method\n",
    "# p1 > p2\n",
    "# p1 => 10,20\n",
    "# p2 => 30,40\n",
    "\n",
    "# "
   ]
  },
  {
   "cell_type": "code",
   "execution_count": 57,
   "id": "74f5229e-ae40-460d-9844-df8165243ca0",
   "metadata": {},
   "outputs": [],
   "source": [
    "# inheritance\n",
    "# polymorphism\n",
    "# encapsulation\n",
    "# public\n",
    "# protected _\n",
    "# default(package protected)\n",
    "# private => __"
   ]
  },
  {
   "cell_type": "code",
   "execution_count": 58,
   "id": "80ebe9c3-d32f-4def-a079-9768fed74ac2",
   "metadata": {},
   "outputs": [],
   "source": [
    "# __var     =>    _class__var          [name mangking]"
   ]
  },
  {
   "cell_type": "code",
   "execution_count": 59,
   "id": "93eac3d2-1a1c-42f3-b215-81def701ede4",
   "metadata": {},
   "outputs": [],
   "source": [
    "# abstraction\n",
    "# feature of oops\n",
    "# hide unwanted deatils from the user\n",
    "# ek esa method jiska implementation na ho"
   ]
  },
  {
   "cell_type": "code",
   "execution_count": 67,
   "id": "5b2d75f3-61bc-4753-b93c-4cb2e29497cf",
   "metadata": {},
   "outputs": [
    {
     "ename": "ImportError",
     "evalue": "cannot import name 'abstractionmethod' from 'abc' (C:\\Users\\deves\\AppData\\Local\\Programs\\Python\\Python312\\Lib\\abc.py)",
     "output_type": "error",
     "traceback": [
      "\u001b[1;31m---------------------------------------------------------------------------\u001b[0m",
      "\u001b[1;31mImportError\u001b[0m                               Traceback (most recent call last)",
      "Cell \u001b[1;32mIn[67], line 1\u001b[0m\n\u001b[1;32m----> 1\u001b[0m \u001b[38;5;28;01mfrom\u001b[39;00m \u001b[38;5;21;01mabc\u001b[39;00m \u001b[38;5;28;01mimport\u001b[39;00m ABC, abstractionmethod\n\u001b[0;32m      3\u001b[0m \u001b[38;5;66;03m# abc => abc package                          ABC is a module/prorgam/class\u001b[39;00m\n\u001b[0;32m      4\u001b[0m \u001b[38;5;66;03m#mammels class is inheriting property of abstract base class \u001b[39;00m\n\u001b[0;32m      5\u001b[0m \u001b[38;5;28;01mclass\u001b[39;00m \u001b[38;5;21;01mmammels\u001b[39;00m(ABC):\n",
      "\u001b[1;31mImportError\u001b[0m: cannot import name 'abstractionmethod' from 'abc' (C:\\Users\\deves\\AppData\\Local\\Programs\\Python\\Python312\\Lib\\abc.py)"
     ]
    }
   ],
   "source": [
    "from abc import ABC, abstractionmethod\n",
    "\n",
    "# abc => abc package                          ABC is a module/prorgam/class\n",
    "#mammels class is inheriting property of abstract base class \n",
    "class mammels(ABC):\n",
    "    @abstractionmethod\n",
    "    def total_legs(self):\n",
    "        pass\n",
    "\n",
    "    def info(self):\n",
    "        print(\"info here\")\n",
    "\n",
    "class person(mammels):\n",
    "    def voice(self):\n",
    "        return \"speak\"\n",
    "\n",
    "    def total_legs(self):\n",
    "        return \"legs is 2\"\n",
    "\n",
    "#class Dog(mammels):\n",
    " #   def voice(self):\n",
    "  #      return \"bark\"\n",
    "        \n",
    "p1=person()\n",
    "p1.total_legs"
   ]
  },
  {
   "cell_type": "code",
   "execution_count": null,
   "id": "7c3bc9fd-7094-4865-b424-69230d7d2b5c",
   "metadata": {},
   "outputs": [],
   "source": [
    "# creating a virtual enviornment\n",
    "# diff bw class method instance method and static method\n",
    "# decorater and generator"
   ]
  }
 ],
 "metadata": {
  "kernelspec": {
   "display_name": "Python 3 (ipykernel)",
   "language": "python",
   "name": "python3"
  },
  "language_info": {
   "codemirror_mode": {
    "name": "ipython",
    "version": 3
   },
   "file_extension": ".py",
   "mimetype": "text/x-python",
   "name": "python",
   "nbconvert_exporter": "python",
   "pygments_lexer": "ipython3",
   "version": "3.12.3"
  }
 },
 "nbformat": 4,
 "nbformat_minor": 5
}
