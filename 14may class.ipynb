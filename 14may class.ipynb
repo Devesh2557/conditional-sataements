{
 "cells": [
  {
   "cell_type": "code",
   "execution_count": 8,
   "id": "14ecb8a4-78ef-4bae-9155-2e0fff626820",
   "metadata": {},
   "outputs": [
    {
     "name": "stdout",
     "output_type": "stream",
     "text": [
      "Informationn is 99 & naina\n"
     ]
    }
   ],
   "source": [
    "class driver:\n",
    "    company=\"regex\"\n",
    "    def __init__(self,id,name,email):\n",
    "        self.id=id\n",
    "        self.name=name\n",
    "        self.email=email\n",
    "\n",
    "    def dinfo(self):\n",
    "        print(f\"Informationn is {self.id} & {self.name}\")\n",
    "    \n",
    "        \n",
    "class coustomer(driver):\n",
    "    def __init__(self,cid,cname,cemail):\n",
    "        super().__init__(cid,cname,cemail)\n",
    "\n",
    "    def cinfo(self):\n",
    "        super().dinfo()\n",
    "\n",
    "c1=coustomer(99,\"naina\",\"naina@gmail.com\")\n",
    "c1.cinfo()"
   ]
  },
  {
   "cell_type": "code",
   "execution_count": 9,
   "id": "4c5d33ee-ba77-4cee-aa30-bd6168101029",
   "metadata": {},
   "outputs": [],
   "source": [
    "# types of inheritence\n",
    "# MRO (method resolution order)\n",
    "#(Now read) what is private, protected, default and public modifier"
   ]
  },
  {
   "cell_type": "code",
   "execution_count": 10,
   "id": "10567e30-0582-448c-bb96-ca5b648b56ad",
   "metadata": {},
   "outputs": [],
   "source": [
    "# program\n",
    "# the time you create any object of a class\n",
    "# that variable should keep increasing"
   ]
  },
  {
   "cell_type": "code",
   "execution_count": 11,
   "id": "e57ed989-1a0c-4c2e-9a75-ebdc14af87e5",
   "metadata": {},
   "outputs": [],
   "source": [
    "# Inheritence"
   ]
  },
  {
   "cell_type": "code",
   "execution_count": 12,
   "id": "fe784a83-179a-42c7-8242-57e98269445f",
   "metadata": {},
   "outputs": [],
   "source": [
    "# Encapsulation\n",
    "# variable / method => bind\n",
    "# accessbility"
   ]
  },
  {
   "cell_type": "code",
   "execution_count": 14,
   "id": "451b01c0-4bb3-4ff0-ab5d-9d3aabe17edd",
   "metadata": {},
   "outputs": [
    {
     "data": {
      "text/plain": [
       "100"
      ]
     },
     "execution_count": 14,
     "metadata": {},
     "output_type": "execute_result"
    }
   ],
   "source": [
    "# protected variable / method         => inherited class can use it only\n",
    "class Vehicle:\n",
    "    _xyz=100\n",
    "\n",
    "v1=Vehicle()\n",
    "v1._xyz"
   ]
  },
  {
   "cell_type": "code",
   "execution_count": 17,
   "id": "a54dda2f-64bc-4651-a9f6-1be817b869bf",
   "metadata": {},
   "outputs": [
    {
     "data": {
      "text/plain": [
       "200"
      ]
     },
     "execution_count": 17,
     "metadata": {},
     "output_type": "execute_result"
    }
   ],
   "source": [
    "# private variable    => only inside the class you can use it \n",
    "class Vehicle:\n",
    "    __xyz=200\n",
    "\n",
    "v1=Vehicle()\n",
    "v1._Vehicle__xyz"
   ]
  },
  {
   "cell_type": "code",
   "execution_count": null,
   "id": "9bea576d-8e6a-4205-a8b3-2a3c91583a3a",
   "metadata": {},
   "outputs": [],
   "source": []
  }
 ],
 "metadata": {
  "kernelspec": {
   "display_name": "Python 3 (ipykernel)",
   "language": "python",
   "name": "python3"
  },
  "language_info": {
   "codemirror_mode": {
    "name": "ipython",
    "version": 3
   },
   "file_extension": ".py",
   "mimetype": "text/x-python",
   "name": "python",
   "nbconvert_exporter": "python",
   "pygments_lexer": "ipython3",
   "version": "3.12.3"
  }
 },
 "nbformat": 4,
 "nbformat_minor": 5
}
