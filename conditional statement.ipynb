{
 "cells": [
  {
   "cell_type": "code",
   "execution_count": 1,
   "id": "59907fb2-5e41-4745-90e8-65092aef0520",
   "metadata": {},
   "outputs": [
    {
     "data": {
      "text/plain": [
       "1"
      ]
     },
     "execution_count": 1,
     "metadata": {},
     "output_type": "execute_result"
    }
   ],
   "source": [
    "#bitwise  operators\n",
    "9&5"
   ]
  },
  {
   "cell_type": "code",
   "execution_count": 2,
   "id": "61e038aa-c727-4d25-a36d-138fdfad65ad",
   "metadata": {},
   "outputs": [
    {
     "data": {
      "text/plain": [
       "10"
      ]
     },
     "execution_count": 2,
     "metadata": {},
     "output_type": "execute_result"
    }
   ],
   "source": [
    "10&14"
   ]
  },
  {
   "cell_type": "code",
   "execution_count": 4,
   "id": "9fc86a4f-4583-4430-ad5f-25c481ad4513",
   "metadata": {},
   "outputs": [
    {
     "data": {
      "text/plain": [
       "14"
      ]
     },
     "execution_count": 4,
     "metadata": {},
     "output_type": "execute_result"
    }
   ],
   "source": [
    "10 | 14"
   ]
  },
  {
   "cell_type": "code",
   "execution_count": 5,
   "id": "a6c2d4fb-4523-4c25-83c6-15a49828c85e",
   "metadata": {},
   "outputs": [
    {
     "data": {
      "text/plain": [
       "5"
      ]
     },
     "execution_count": 5,
     "metadata": {},
     "output_type": "execute_result"
    }
   ],
   "source": [
    "11>>1"
   ]
  },
  {
   "cell_type": "code",
   "execution_count": 21,
   "id": "8ac870a4-f6c7-4732-a0a7-65d63dc50890",
   "metadata": {},
   "outputs": [
    {
     "data": {
      "text/plain": [
       "'A'"
      ]
     },
     "execution_count": 21,
     "metadata": {},
     "output_type": "execute_result"
    }
   ],
   "source": [
    "state=\"RAJASTHAN\"\n",
    "state[3]"
   ]
  },
  {
   "cell_type": "code",
   "execution_count": 22,
   "id": "fb834034-3e68-4ec8-8cdb-655fbebf0534",
   "metadata": {},
   "outputs": [
    {
     "data": {
      "text/plain": [
       "'AT'"
      ]
     },
     "execution_count": 22,
     "metadata": {},
     "output_type": "execute_result"
    }
   ],
   "source": [
    "# slicing [ start: stop: [step=1(by defalut)]\n",
    "state=\"RAJASTHAN\"\n",
    "state[-6:-2:2]"
   ]
  },
  {
   "cell_type": "code",
   "execution_count": null,
   "id": "7d58fb42-382b-41fe-947f-7b63120377cd",
   "metadata": {},
   "outputs": [],
   "source": []
  },
  {
   "cell_type": "code",
   "execution_count": 23,
   "id": "7c7d4e56-b3ad-493e-9336-503a33f67b39",
   "metadata": {},
   "outputs": [
    {
     "data": {
      "text/plain": [
       "'AJASTHAN'"
      ]
     },
     "execution_count": 23,
     "metadata": {},
     "output_type": "execute_result"
    }
   ],
   "source": [
    "state=\"RAJASTHAN\"\n",
    "state[1:]"
   ]
  },
  {
   "cell_type": "code",
   "execution_count": 24,
   "id": "01dc6bd0-e9a0-4780-86ff-c8710b467f55",
   "metadata": {},
   "outputs": [
    {
     "data": {
      "text/plain": [
       "'AA'"
      ]
     },
     "execution_count": 24,
     "metadata": {},
     "output_type": "execute_result"
    }
   ],
   "source": [
    "state=\"RAJASTHAN\"\n",
    "state[3::4]"
   ]
  },
  {
   "cell_type": "code",
   "execution_count": 30,
   "id": "deb64f14-bd43-47c4-b71b-d06468d3495b",
   "metadata": {},
   "outputs": [
    {
     "data": {
      "text/plain": [
       "'TSAJAR'"
      ]
     },
     "execution_count": 30,
     "metadata": {},
     "output_type": "execute_result"
    }
   ],
   "source": [
    "state=\"RAJASTHAN\"\n",
    "state[-4::-1]"
   ]
  },
  {
   "cell_type": "code",
   "execution_count": 74,
   "id": "f06382c8-ceca-4dd5-87b4-9b12349c431e",
   "metadata": {},
   "outputs": [
    {
     "name": "stdin",
     "output_type": "stream",
     "text": [
      "enter a number 5\n"
     ]
    },
    {
     "name": "stdout",
     "output_type": "stream",
     "text": [
      "number is not divisible\n"
     ]
    }
   ],
   "source": [
    "x=int(input(\"enter a number\"))\n",
    "if(x%2==0 and x%3==0):\n",
    "    print(\"number is divisible\")\n",
    "else:\n",
    "    print(\"number is not divisible\")"
   ]
  },
  {
   "cell_type": "code",
   "execution_count": null,
   "id": "c6c7bc02-355a-497b-9aba-5e4c2c48bcb4",
   "metadata": {},
   "outputs": [],
   "source": []
  }
 ],
 "metadata": {
  "kernelspec": {
   "display_name": "Python 3 (ipykernel)",
   "language": "python",
   "name": "python3"
  },
  "language_info": {
   "codemirror_mode": {
    "name": "ipython",
    "version": 3
   },
   "file_extension": ".py",
   "mimetype": "text/x-python",
   "name": "python",
   "nbconvert_exporter": "python",
   "pygments_lexer": "ipython3",
   "version": "3.12.3"
  }
 },
 "nbformat": 4,
 "nbformat_minor": 5
}
