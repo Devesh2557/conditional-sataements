{
 "cells": [
  {
   "cell_type": "code",
   "execution_count": 1,
   "id": "ca16ac51-ce3a-479f-9f4e-f09d52c18345",
   "metadata": {},
   "outputs": [
    {
     "name": "stdout",
     "output_type": "stream",
     "text": [
      "A B C  \n",
      "  B C  \n",
      "    C  \n",
      "       \n"
     ]
    }
   ],
   "source": [
    "for i in range(1,5):\n",
    "    for j in range(1,i):\n",
    "        print(\" \",end=\" \")\n",
    "    for k in range(i,4):\n",
    "        print(chr(64+i),end=\" \")\n",
    "        i+=1\n",
    "    print(\" \")"
   ]
  },
  {
   "cell_type": "code",
   "execution_count": 7,
   "id": "82dcab46-5fcf-4e7f-b6d7-1eb7e6ab7e2d",
   "metadata": {},
   "outputs": [
    {
     "name": "stdout",
     "output_type": "stream",
     "text": [
      "A B C D  \n",
      "  A B C  \n",
      "    A B  \n",
      "      A  \n"
     ]
    }
   ],
   "source": [
    "for i in range(1,5):\n",
    "    num=1\n",
    "    for j in range(1,i):\n",
    "        print(\" \",end=\" \")\n",
    "    for k in range(i,5):\n",
    "        print(chr(64+num),end=\" \")\n",
    "        num+=1\n",
    "    print(\" \")"
   ]
  },
  {
   "cell_type": "code",
   "execution_count": 9,
   "id": "d96debb7-7bda-4bd3-9c2c-89a17ef74659",
   "metadata": {},
   "outputs": [
    {
     "name": "stdout",
     "output_type": "stream",
     "text": [
      "A B C D \n",
      "\n",
      "  10 100 1000 \n",
      "\n",
      "    B C \n",
      "\n",
      "      100 \n",
      "\n"
     ]
    }
   ],
   "source": [
    "temp =0\n",
    "sum = 0\n",
    "for i in range(1,5):\n",
    "    num =10\n",
    "    \n",
    "    if(i%2!=0):\n",
    "        \n",
    "        for j in range(1,i):\n",
    "            print(\" \",end=\" \")\n",
    "        for k in range(i,5):\n",
    "            print(chr(64+i-sum),end=\" \")\n",
    "            i+=1\n",
    "        print(\"\")\n",
    "        sum+=1\n",
    "        \n",
    "    elif(i%2==0):\n",
    "        \n",
    "        for j in range(1,i):\n",
    "            print(\" \",end=\" \")\n",
    "        for k in range(i,5):\n",
    "            print(num + temp,end=\" \")\n",
    "            num*=10\n",
    "        print(\"\")\n",
    "        temp+=90\n",
    "            \n",
    "    print(\"\")"
   ]
  },
  {
   "cell_type": "code",
   "execution_count": 13,
   "id": "87c6cf49-012f-4938-b11b-e373e503d3df",
   "metadata": {},
   "outputs": [
    {
     "name": "stdout",
     "output_type": "stream",
     "text": [
      "Z Y X  \n",
      "  W V  \n",
      "    U  \n"
     ]
    }
   ],
   "source": [
    "num=0\n",
    "for i in range(1,4):\n",
    "    for j in range(1,i):\n",
    "        print(\" \",end=\" \")\n",
    "    for k in range(i,4):\n",
    "        print(chr(90-num),end=\" \")\n",
    "        num+=1\n",
    "    print(\" \")"
   ]
  },
  {
   "cell_type": "code",
   "execution_count": 14,
   "id": "87e52244-57e9-4dc5-b39d-39f22ec45440",
   "metadata": {},
   "outputs": [
    {
     "name": "stdout",
     "output_type": "stream",
     "text": [
      "* * * * *  \n",
      "  *     *  \n",
      "    *   *  \n",
      "      * *  \n",
      "        *  \n"
     ]
    }
   ],
   "source": [
    "for i in range(0,5):\n",
    "    for j in range(0,5):\n",
    "        if(i==j or i==0 or j==4):\n",
    "            print(\"*\",end=\" \")\n",
    "        else:\n",
    "            print(\" \",end=\" \")\n",
    "    print(\" \")"
   ]
  },
  {
   "cell_type": "code",
   "execution_count": null,
   "id": "187afc07-8c21-4521-b2f7-f6383257a46c",
   "metadata": {},
   "outputs": [],
   "source": []
  }
 ],
 "metadata": {
  "kernelspec": {
   "display_name": "Python 3 (ipykernel)",
   "language": "python",
   "name": "python3"
  },
  "language_info": {
   "codemirror_mode": {
    "name": "ipython",
    "version": 3
   },
   "file_extension": ".py",
   "mimetype": "text/x-python",
   "name": "python",
   "nbconvert_exporter": "python",
   "pygments_lexer": "ipython3",
   "version": "3.12.3"
  }
 },
 "nbformat": 4,
 "nbformat_minor": 5
}
