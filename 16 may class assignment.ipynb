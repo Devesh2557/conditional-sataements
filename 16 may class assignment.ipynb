{
 "cells": [
  {
   "cell_type": "code",
   "execution_count": 7,
   "id": "984f4083-2d39-4e78-838c-dd42fabe6542",
   "metadata": {},
   "outputs": [
    {
     "name": "stdin",
     "output_type": "stream",
     "text": [
      "enter a number 10\n",
      "enter a number 15\n"
     ]
    },
    {
     "name": "stdout",
     "output_type": "stream",
     "text": [
      "value of a is:- 15\n",
      "value of b is:- 10\n"
     ]
    }
   ],
   "source": [
    "# Swap the number without using third varible\n",
    "a=int(input(\"enter a number\"))\n",
    "b=int(input(\"enter a number\"))\n",
    "a=a+b\n",
    "b=a-b\n",
    "a=a-b\n",
    "print(\"value of a is:-\",a)\n",
    "print(\"value of b is:-\",b)"
   ]
  },
  {
   "cell_type": "code",
   "execution_count": 27,
   "id": "94ea6c8c-0f2c-4dd1-8f2e-aa7be7aece7d",
   "metadata": {},
   "outputs": [
    {
     "name": "stdin",
     "output_type": "stream",
     "text": [
      "enter a number 153\n"
     ]
    },
    {
     "name": "stdout",
     "output_type": "stream",
     "text": [
      "351\n"
     ]
    }
   ],
   "source": [
    "# Write a Program to extract each digit from an integer in the reverse order.\n",
    "sum1=0\n",
    "num=int(input(\"enter a number\"))\n",
    "while(num>0):\n",
    "    rem = num % 10\n",
    "    sum1 = sum1 * 10 + rem\n",
    "    num = num // 10\n",
    "print(sum1)"
   ]
  },
  {
   "cell_type": "code",
   "execution_count": 12,
   "id": "a7790659-d12d-49e0-9cde-e9c77f9713e2",
   "metadata": {},
   "outputs": [
    {
     "name": "stdin",
     "output_type": "stream",
     "text": [
      "Enter a number 6\n",
      "Enter a number 5\n",
      "Enter a number 4\n"
     ]
    },
    {
     "name": "stdout",
     "output_type": "stream",
     "text": [
      "15\n"
     ]
    }
   ],
   "source": [
    "# Write a program that will give you the sum of 3 digits\n",
    "a=int(input(\"Enter a number\"))\n",
    "b=int(input(\"Enter a number\"))\n",
    "c=int(input(\"Enter a number\"))\n",
    "d=a+b+c\n",
    "print(d)"
   ]
  },
  {
   "cell_type": "code",
   "execution_count": 32,
   "id": "ca83a0d0-ee9e-4398-9fc2-595db1aab971",
   "metadata": {},
   "outputs": [
    {
     "name": "stdin",
     "output_type": "stream",
     "text": [
      "Enter one number 2\n",
      "Enter second number 3\n",
      "Enter third number 4\n"
     ]
    },
    {
     "name": "stdout",
     "output_type": "stream",
     "text": [
      "4 9 16\n",
      "Addition of square is:- 29\n"
     ]
    }
   ],
   "source": [
    "# Write a program that will take three digits from the user and add the square of each digit.\n",
    "a=int(input(\"Enter one number\"))\n",
    "b=int(input(\"Enter second number\"))\n",
    "c=int(input(\"Enter third number\"))\n",
    "d=a*a\n",
    "e=b*b\n",
    "f=c*c\n",
    "g=d+e+f\n",
    "print(d,e,f)\n",
    "print(\"Addition of square is:-\",g)"
   ]
  },
  {
   "cell_type": "code",
   "execution_count": 44,
   "id": "bdcb27d4-3d91-429c-88ce-ed2294968066",
   "metadata": {},
   "outputs": [
    {
     "name": "stdin",
     "output_type": "stream",
     "text": [
      "Enter a number 5\n"
     ]
    },
    {
     "name": "stdout",
     "output_type": "stream",
     "text": [
      "5 Number is not armstrong\n"
     ]
    }
   ],
   "source": [
    "# Write a program that will check whether the number is armstrong number or not.\n",
    "result=0\n",
    "num=int(input(\"Enter a number\"))\n",
    "a=num\n",
    "while a!=0:\n",
    "    rem=a%10\n",
    "    result=result + rem * rem * rem\n",
    "    a//=10\n",
    "if result==num:\n",
    "    print(num,\"Number is armstrong\")\n",
    "else:\n",
    "    print(num,\"Number is not armstrong\")"
   ]
  },
  {
   "cell_type": "code",
   "execution_count": 40,
   "id": "6c7bf026-025f-4eb1-9610-76544304efd3",
   "metadata": {},
   "outputs": [
    {
     "name": "stdout",
     "output_type": "stream",
     "text": [
      "The number is:- 3.53\n"
     ]
    }
   ],
   "source": [
    "# Display float number with 2 decimal places using print()\n",
    "a=3.526585\n",
    "b=round(a,2)\n",
    "print(\"The number is:-\",b)"
   ]
  },
  {
   "cell_type": "code",
   "execution_count": 42,
   "id": "9bc11719-a683-494d-a9ac-fcfdfddbd851",
   "metadata": {},
   "outputs": [
    {
     "name": "stdin",
     "output_type": "stream",
     "text": [
      "Enter a number 16\n"
     ]
    },
    {
     "name": "stdout",
     "output_type": "stream",
     "text": [
      "1\n",
      "2\n",
      "4\n",
      "8\n",
      "16\n"
     ]
    }
   ],
   "source": [
    "# Print all factors of a given number provided by the user.\n",
    "num=int(input(\"Enter a number\"))\n",
    "for i in range(1,num+1):\n",
    "    if num%i==0:\n",
    "        print(i)"
   ]
  },
  {
   "cell_type": "code",
   "execution_count": 51,
   "id": "17d34542-6e04-4b14-b55d-330ac5c7fb59",
   "metadata": {},
   "outputs": [
    {
     "name": "stdin",
     "output_type": "stream",
     "text": [
      " 5\n",
      " 2.5\n",
      " 3.5\n",
      " 6.5\n",
      " 5.\n",
      " 5.4\n"
     ]
    },
    {
     "name": "stdout",
     "output_type": "stream",
     "text": [
      "[2.5, 3.5, 6.5, 5.0, 5.4]\n"
     ]
    }
   ],
   "source": [
    "# Accept a list of 5 float numbers as an input from the user\n",
    "list1=[]\n",
    "for i in range(int(input())):\n",
    "    num=float(input())\n",
    "    list1.append(num)\n",
    "\n",
    "print(list1)"
   ]
  },
  {
   "cell_type": "code",
   "execution_count": 54,
   "id": "7e638d42-468f-4738-9d14-4087f775be82",
   "metadata": {},
   "outputs": [
    {
     "name": "stdin",
     "output_type": "stream",
     "text": [
      "Enter number for radius:- 5\n",
      "Enter number for hight:- 6\n"
     ]
    },
    {
     "name": "stdout",
     "output_type": "stream",
     "text": [
      "volume is:- 471.0\n",
      "The cost of the milk when the cost of 1ltr milk is 40:- 18840.0\n"
     ]
    }
   ],
   "source": [
    "# Write a program to find the volume of the cylinder. Also find the cost when ,when the cost of 1litre milk is 40Rs.\n",
    "pi=3.14\n",
    "r=float(input(\"Enter number for radius:-\"))\n",
    "h=float(input(\"Enter number for hight:-\"))\n",
    "volume=pi*r*r*h\n",
    "print(\"volume is:-\",volume)\n",
    "a=volume*40\n",
    "print(\"The cost of the milk when the cost of 1ltr milk is 40:-\",a)"
   ]
  },
  {
   "cell_type": "code",
   "execution_count": null,
   "id": "95ecb8cc-a0bf-4c50-be25-f6596a6637aa",
   "metadata": {},
   "outputs": [],
   "source": []
  }
 ],
 "metadata": {
  "kernelspec": {
   "display_name": "Python 3 (ipykernel)",
   "language": "python",
   "name": "python3"
  },
  "language_info": {
   "codemirror_mode": {
    "name": "ipython",
    "version": 3
   },
   "file_extension": ".py",
   "mimetype": "text/x-python",
   "name": "python",
   "nbconvert_exporter": "python",
   "pygments_lexer": "ipython3",
   "version": "3.12.3"
  }
 },
 "nbformat": 4,
 "nbformat_minor": 5
}
